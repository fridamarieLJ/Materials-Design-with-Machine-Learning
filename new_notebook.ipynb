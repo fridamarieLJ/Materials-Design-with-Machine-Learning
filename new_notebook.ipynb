{
 "cells": [
  {
   "cell_type": "code",
   "execution_count": 16,
   "metadata": {},
   "outputs": [],
   "source": [
    "import numpy as np\n",
    "import os\n",
    "import pandas as pd\n",
    "import json\n",
    "from dscribe.descriptors import CoulombMatrix\n",
    "from dscribe.descriptors import MBTR\n",
    "from ase import Atoms\n",
    "from sklearn.model_selection import train_test_split\n",
    "import matplotlib.pyplot as plt\n",
    "import matplotlib\n",
    "from sklearn.decomposition import PCA\n",
    "from sklearn.preprocessing import StandardScaler\n",
    "from scipy.spatial.distance import cdist\n",
    "from scipy.optimize import differential_evolution\n",
    "import matplotlib.pyplot as plt\n",
    "\n",
    "font = {'size'   : 22}\n",
    "matplotlib.rc('font', **font)\n",
    "%matplotlib widget"
   ]
  },
  {
   "cell_type": "code",
   "execution_count": 17,
   "metadata": {},
   "outputs": [],
   "source": [
    "# Import data\n",
    "os.getcwd()\n",
    "os.chdir(r\"C:\\Users\\s201204.FRIDA\\Documents\\Materials Design with Machine Learning\\KaggleCompetition\")\n",
    "\n",
    "from LoadData import train, test\n",
    "\n",
    "# Import info about the nr of atoms in data\n",
    "from LoadData import max_number_of_atoms, min_atomic_number, max_atomic_number, species, number_of_atoms, atomic_numbers\n",
    "\n",
    "# Import fingerprint generator\n",
    "from Fingerprints import Coulombmatrices\n",
    "from Fingerprints import get_MBTR\n",
    "\n",
    "# Import PCA\n",
    "from PCA_decomposition import PCA_decomposition"
   ]
  },
  {
   "cell_type": "code",
   "execution_count": 18,
   "metadata": {},
   "outputs": [
    {
     "data": {
      "text/plain": [
       "['Te',\n",
       " 'I',\n",
       " 'Br',\n",
       " 'V',\n",
       " 'Pd',\n",
       " 'Ir',\n",
       " 'O',\n",
       " 'Ag',\n",
       " 'Pt',\n",
       " 'C',\n",
       " 'Y',\n",
       " 'Cl',\n",
       " 'Cu',\n",
       " 'H',\n",
       " 'Cd',\n",
       " 'As',\n",
       " 'Mo',\n",
       " 'Sn',\n",
       " 'Os',\n",
       " 'B',\n",
       " 'Nb',\n",
       " 'Co',\n",
       " 'Ti',\n",
       " 'Ga',\n",
       " 'Rh',\n",
       " 'Se',\n",
       " 'Ba',\n",
       " 'P',\n",
       " 'Ni',\n",
       " 'Sr',\n",
       " 'Re',\n",
       " 'F',\n",
       " 'Tl',\n",
       " 'Mn',\n",
       " 'Cs',\n",
       " 'Rb',\n",
       " 'Si',\n",
       " 'Pb',\n",
       " 'Zr',\n",
       " 'Fe',\n",
       " 'Ru',\n",
       " 'Li',\n",
       " 'Hf',\n",
       " 'Al',\n",
       " 'K',\n",
       " 'Na',\n",
       " 'Bi',\n",
       " 'Sc',\n",
       " 'Ca',\n",
       " 'Sb',\n",
       " 'Au',\n",
       " 'Zn',\n",
       " 'Be',\n",
       " 'Ta',\n",
       " 'S',\n",
       " 'Mg',\n",
       " 'In',\n",
       " 'Ge',\n",
       " 'W',\n",
       " 'Hg',\n",
       " 'Cr',\n",
       " 'N']"
      ]
     },
     "execution_count": 18,
     "metadata": {},
     "output_type": "execute_result"
    }
   ],
   "source": [
    "species"
   ]
  },
  {
   "cell_type": "code",
   "execution_count": 19,
   "metadata": {},
   "outputs": [
    {
     "data": {
      "text/html": [
       "<div>\n",
       "<style scoped>\n",
       "    .dataframe tbody tr th:only-of-type {\n",
       "        vertical-align: middle;\n",
       "    }\n",
       "\n",
       "    .dataframe tbody tr th {\n",
       "        vertical-align: top;\n",
       "    }\n",
       "\n",
       "    .dataframe thead th {\n",
       "        text-align: right;\n",
       "    }\n",
       "</style>\n",
       "<table border=\"1\" class=\"dataframe\">\n",
       "  <thead>\n",
       "    <tr style=\"text-align: right;\">\n",
       "      <th></th>\n",
       "      <th>id</th>\n",
       "      <th>formula</th>\n",
       "      <th>atoms</th>\n",
       "      <th>hform</th>\n",
       "    </tr>\n",
       "  </thead>\n",
       "  <tbody>\n",
       "    <tr>\n",
       "      <th>0</th>\n",
       "      <td>5154</td>\n",
       "      <td>Zr2BO2</td>\n",
       "      <td>(Atom('Zr', [np.float64(1.6878604657), np.floa...</td>\n",
       "      <td>-2.037877</td>\n",
       "    </tr>\n",
       "    <tr>\n",
       "      <th>1</th>\n",
       "      <td>984</td>\n",
       "      <td>Ni2S6</td>\n",
       "      <td>(Atom('Ni', [np.float64(1.1571403137), np.floa...</td>\n",
       "      <td>-0.091020</td>\n",
       "    </tr>\n",
       "    <tr>\n",
       "      <th>2</th>\n",
       "      <td>1634</td>\n",
       "      <td>Cd4K2Cl6O6Te2</td>\n",
       "      <td>(Atom('Cd', [np.float64(2.7840261751), np.floa...</td>\n",
       "      <td>-1.109751</td>\n",
       "    </tr>\n",
       "    <tr>\n",
       "      <th>3</th>\n",
       "      <td>1872</td>\n",
       "      <td>Hf4H2N3O2</td>\n",
       "      <td>(Atom('Hf', [np.float64(0.0), np.float64(1.867...</td>\n",
       "      <td>-1.609142</td>\n",
       "    </tr>\n",
       "    <tr>\n",
       "      <th>4</th>\n",
       "      <td>2977</td>\n",
       "      <td>Sc2Te2</td>\n",
       "      <td>(Atom('Te', [np.float64(0.0003850118), np.floa...</td>\n",
       "      <td>-0.854593</td>\n",
       "    </tr>\n",
       "  </tbody>\n",
       "</table>\n",
       "</div>"
      ],
      "text/plain": [
       "     id        formula                                              atoms  \\\n",
       "0  5154         Zr2BO2  (Atom('Zr', [np.float64(1.6878604657), np.floa...   \n",
       "1   984          Ni2S6  (Atom('Ni', [np.float64(1.1571403137), np.floa...   \n",
       "2  1634  Cd4K2Cl6O6Te2  (Atom('Cd', [np.float64(2.7840261751), np.floa...   \n",
       "3  1872      Hf4H2N3O2  (Atom('Hf', [np.float64(0.0), np.float64(1.867...   \n",
       "4  2977         Sc2Te2  (Atom('Te', [np.float64(0.0003850118), np.floa...   \n",
       "\n",
       "      hform  \n",
       "0 -2.037877  \n",
       "1 -0.091020  \n",
       "2 -1.109751  \n",
       "3 -1.609142  \n",
       "4 -0.854593  "
      ]
     },
     "execution_count": 19,
     "metadata": {},
     "output_type": "execute_result"
    }
   ],
   "source": [
    "train.head()"
   ]
  },
  {
   "cell_type": "code",
   "execution_count": 20,
   "metadata": {},
   "outputs": [
    {
     "name": "stdout",
     "output_type": "stream",
     "text": [
      "0\n",
      "1000\n",
      "2000\n",
      "3000\n",
      "4000\n",
      "5000\n",
      "6000\n",
      "7000\n"
     ]
    }
   ],
   "source": [
    "cmats = Coulombmatrices(train, max_number_of_atoms)"
   ]
  },
  {
   "cell_type": "code",
   "execution_count": 21,
   "metadata": {},
   "outputs": [
    {
     "name": "stdout",
     "output_type": "stream",
     "text": [
      "X: (8000, 400)\n",
      "y: (8000, 1)\n"
     ]
    }
   ],
   "source": [
    "# Set target and feature vector \n",
    "X = pd.DataFrame(data = cmats, index=train.id)\n",
    "y = pd.DataFrame(train['hform'].values, index = train.id)\n",
    "print('X: {}'.format(X.shape))\n",
    "print('y: {}'.format(y.shape))"
   ]
  },
  {
   "cell_type": "code",
   "execution_count": 22,
   "metadata": {},
   "outputs": [],
   "source": [
    "# Split training data into a training set and a validation set\n",
    "X_train, X_test, y_train, y_test = train_test_split(X, y, test_size=0.2, random_state=251)\n",
    "y_test_values = y_test.values  # Extract values as a NumPy array\n",
    "y_train_values = y_train.values  # Extract values as a NumPy array"
   ]
  },
  {
   "cell_type": "markdown",
   "metadata": {},
   "source": [
    "So far so good\n"
   ]
  },
  {
   "cell_type": "code",
   "execution_count": 23,
   "metadata": {},
   "outputs": [],
   "source": [
    "# The question is if data is shuffled in the PCA. Chat says no."
   ]
  },
  {
   "cell_type": "code",
   "execution_count": 24,
   "metadata": {},
   "outputs": [],
   "source": [
    "class GP:\n",
    "    def __init__(self, train, target, sigma):\n",
    "        self.train = train\n",
    "        self.target = target\n",
    "        self.train_dist = cdist(train, train, metric='sqeuclidean')\n",
    "        self.target_mean = np.mean(target)\n",
    "        self.target_normalized = target - self.target_mean\n",
    "        self.N = len(train)\n",
    "        self.sigma = sigma\n",
    "\n",
    "    def kernel(self, x1, x2, ll, k0):\n",
    "        diff = x1 - x2\n",
    "        return k0 * np.exp(-np.sum(diff ** 2, axis=-1) / (2 * ll ** 2))\n",
    "    \n",
    "    def train_GP(self, ll, k0):\n",
    "        self.ll = ll\n",
    "        self.k0 = k0\n",
    "        K = k0 * np.exp(- self.train_dist / (2 * ll ** 2))\n",
    "        C = K + k0 * self.sigma ** 2 * np.identity(self.N)\n",
    "        L = np.linalg.cholesky(C)  # Cholesky decomposition for stability\n",
    "        self.Cinvt = np.linalg.solve(L.T, np.linalg.solve(L, self.target_normalized))\n",
    "\n",
    "    def predict(self, fingerprint):\n",
    "        diff = fingerprint - self.train\n",
    "        kvec = self.k0 * np.exp(-np.sum(diff ** 2, axis=1) / (2 * self.ll ** 2))\n",
    "        prediction = np.dot(kvec, self.Cinvt) + self.target_mean\n",
    "        return prediction\n"
   ]
  },
  {
   "cell_type": "code",
   "execution_count": 25,
   "metadata": {},
   "outputs": [],
   "source": [
    "n_PC = 130\n",
    "\n",
    "# Standardize the training set\n",
    "scaler = StandardScaler()\n",
    "X_train_scaled = scaler.fit_transform(X_train)\n",
    "\n",
    "# Apply PCA to the training set\n",
    "pca = PCA(n_components=n_PC)  # Reduce to 3 components\n",
    "X_train_pca = pca.fit_transform(X_train_scaled)\n",
    "\n",
    "# Now apply the same transformations to the test set\n",
    "X_test_scaled = scaler.transform(X_test)  # Use the same scaler\n",
    "X_test_pca = pca.transform(X_test_scaled)  # Use the same PCA\n"
   ]
  },
  {
   "cell_type": "code",
   "execution_count": 26,
   "metadata": {},
   "outputs": [],
   "source": [
    "simpleGP = GP(X_train_pca, y_train_values, sigma = 0.003)"
   ]
  },
  {
   "cell_type": "code",
   "execution_count": 27,
   "metadata": {},
   "outputs": [],
   "source": [
    "from sklearn.metrics import mean_squared_error as mse\n",
    "from sklearn.metrics import root_mean_squared_error as rmse"
   ]
  },
  {
   "cell_type": "code",
   "execution_count": 28,
   "metadata": {},
   "outputs": [
    {
     "name": "stdout",
     "output_type": "stream",
     "text": [
      "With l = 0.04 RMSE = 0.6784856142244645\n"
     ]
    }
   ],
   "source": [
    "k = 1\n",
    "l=0.04\n",
    "simpleGP.train_GP(l, k)\n",
    "predictions = np.array([simpleGP.predict(fingerprint) for fingerprint in X_test_pca])\n",
    "print(f\"With l = {l} RMSE = {rmse(y_test_values, predictions)}\")\n"
   ]
  },
  {
   "cell_type": "code",
   "execution_count": 29,
   "metadata": {},
   "outputs": [
    {
     "data": {
      "text/plain": [
       "<matplotlib.collections.PathCollection at 0x250693c5510>"
      ]
     },
     "execution_count": 29,
     "metadata": {},
     "output_type": "execute_result"
    },
    {
     "data": {
      "application/vnd.jupyter.widget-view+json": {
       "model_id": "9af10a3e5c2f41779b24045ee2cf4625",
       "version_major": 2,
       "version_minor": 0
      },
      "image/png": "[encoded data removed]",
      "text/html": [
       "\n",
       "            <div style=\"display: inline-block;\">\n",
       "                <div class=\"jupyter-widgets widget-label\" style=\"text-align: center;\">\n",
       "                    Figure\n",
       "                </div>\n",
       "                <img src='data:image/png;base64,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' width=640.0/>\n",
       "            </div>\n",
       "        "
      ],
      "text/plain": [
       "Canvas(toolbar=Toolbar(toolitems=[('Home', 'Reset original view', 'home', 'home'), ('Back', 'Back to previous …"
      ]
     },
     "metadata": {},
     "output_type": "display_data"
    }
   ],
   "source": [
    "plt.figure()\n",
    "plt.scatter(y_test_values, predictions, s = 1)"
   ]
  }
 ],
 "metadata": {
  "kernelspec": {
   "display_name": "MLDM",
   "language": "python",
   "name": "python3"
  },
  "language_info": {
   "codemirror_mode": {
    "name": "ipython",
    "version": 3
   },
   "file_extension": ".py",
   "mimetype": "text/x-python",
   "name": "python",
   "nbconvert_exporter": "python",
   "pygments_lexer": "ipython3",
   "version": "3.11.9"
  }
 },
 "nbformat": 4,
 "nbformat_minor": 2
}
