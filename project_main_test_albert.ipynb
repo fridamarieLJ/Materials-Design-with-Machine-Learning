{
 "cells": [
  {
   "cell_type": "code",
   "execution_count": 44,
   "metadata": {},
   "outputs": [],
   "source": [
    "###Libraries (not in function files)\n",
    "from sklearn.model_selection import train_test_split"
   ]
  },
  {
   "cell_type": "code",
   "execution_count": 45,
   "metadata": {},
   "outputs": [],
   "source": [
    "from project_dataload import *\n",
    "from project_gaussian import *\n",
    "from Fingerprints import *\n",
    "from PCA_decomposition import *\n",
    "from GP import GP\n",
    "\n",
    "import matplotlib.pyplot as plt\n",
    "from dscribe.descriptors import CoulombMatrix\n",
    "from dscribe.descriptors import SineMatrix\n",
    "from dscribe.descriptors import EwaldSumMatrix\n",
    "from dscribe.descriptors import SOAP\n"
   ]
  },
  {
   "cell_type": "code",
   "execution_count": 46,
   "metadata": {},
   "outputs": [],
   "source": [
    "### rmse\n",
    "def rmse(predictions, targets):\n",
    "    return np.sqrt(((predictions - targets) ** 2).mean())"
   ]
  },
  {
   "cell_type": "code",
   "execution_count": 47,
   "metadata": {},
   "outputs": [
    {
     "name": "stdout",
     "output_type": "stream",
     "text": [
      "Check train data\n",
      "Train data shape: (8000, 4)\n",
      "     id        formula                                              atoms  \\\n",
      "0  5154         Zr2BO2  (Atom('Zr', [1.6878604657, 0.892285133, 8.1345...   \n",
      "1   984          Ni2S6  (Atom('Ni', [1.1571403137, 0.934725185, 12.234...   \n",
      "2  1634  Cd4K2Cl6O6Te2  (Atom('Cd', [2.7840261751, 5.6922402759, 26.71...   \n",
      "3  1872      Hf4H2N3O2  (Atom('Hf', [0.0, 1.8677827772, 12.2421466347]...   \n",
      "4  2977         Sc2Te2  (Atom('Te', [0.0003850118, 0.0002469812, 7.461...   \n",
      "\n",
      "      hform  \n",
      "0 -2.037877  \n",
      "1 -0.091020  \n",
      "2 -1.109751  \n",
      "3 -1.609142  \n",
      "4 -0.854593  \n",
      "Check test data\n",
      "Train data shape: (4000, 3)\n",
      "      id     formula                                              atoms\n",
      "0   8538    HfZrSTe2  (Atom('S', [-1.0327079693, 4.2080182974, 22.81...\n",
      "1   9052    Nb2P2Te6  (Atom('Nb', [0.3517632032, -0.2042419274, 9.20...\n",
      "2  10503  Au2InI2Se2  (Atom('Se', [0.2238411856, 0.8131388722, 26.83...\n",
      "3    611   AuTlO6Sb2  (Atom('Au', [0.0002076097, -0.0001198635, 16.6...\n",
      "4   7212       NbBr2  (Atom('Nb', [6.208919093e-19, -1.371643362e-17...\n",
      "Max number of atoms 20\n"
     ]
    }
   ],
   "source": [
    "###Data load and check\n",
    "\n",
    "data_dir=\"./project_data/\"\n",
    "train, test = data_load(data_dir)\n",
    "\n",
    "print('Check train data')\n",
    "check_data(train)\n",
    "print('Check test data')\n",
    "check_data(test)\n",
    "summary = summarize_1(train, test)\n",
    "print('Max number of atoms',summary['max_number_of_atoms'])\n"
   ]
  },
  {
   "cell_type": "code",
   "execution_count": 48,
   "metadata": {},
   "outputs": [
    {
     "name": "stdout",
     "output_type": "stream",
     "text": [
      "0\n",
      "1000\n",
      "2000\n",
      "3000\n",
      "4000\n",
      "5000\n",
      "6000\n",
      "7000\n",
      "Shape of cmats (8000, 400)\n"
     ]
    }
   ],
   "source": [
    "### Implement fingerprint\n",
    "max_num_atoms = summary['max_number_of_atoms']\n",
    "cmats = Coulombmatrices(train, max_num_atoms)\n",
    "y_vals = train['hform']\n",
    "print('Shape of cmats', cmats.shape)"
   ]
  },
  {
   "cell_type": "code",
   "execution_count": 55,
   "metadata": {},
   "outputs": [
    {
     "data": {
      "text/plain": [
       "346890"
      ]
     },
     "execution_count": 55,
     "metadata": {},
     "output_type": "execute_result"
    }
   ],
   "source": [
    "species = summary['species']\n",
    "r_cut = 5\n",
    "n_max = 6\n",
    "l_max = 4\n",
    "\n",
    "soap = SOAP(\n",
    "    species=species,\n",
    "    r_cut = r_cut,\n",
    "    n_max = n_max,\n",
    "    l_max = l_max)\n",
    "\n",
    "soap.get_number_of_features()"
   ]
  },
  {
   "cell_type": "code",
   "execution_count": 65,
   "metadata": {},
   "outputs": [
    {
     "ename": "MemoryError",
     "evalue": "Unable to allocate 238. MiB for an array with shape (8000, 3906) and data type float64",
     "output_type": "error",
     "traceback": [
      "\u001b[1;31m---------------------------------------------------------------------------\u001b[0m",
      "\u001b[1;31mMemoryError\u001b[0m                               Traceback (most recent call last)",
      "Cell \u001b[1;32mIn[65], line 27\u001b[0m\n\u001b[0;32m     24\u001b[0m n_max \u001b[38;5;241m=\u001b[39m \u001b[38;5;241m1\u001b[39m\n\u001b[0;32m     25\u001b[0m l_max \u001b[38;5;241m=\u001b[39m \u001b[38;5;241m1\u001b[39m\n\u001b[1;32m---> 27\u001b[0m \u001b[43msoapmatrices\u001b[49m\u001b[43m(\u001b[49m\u001b[43mtrain\u001b[49m\u001b[43m,\u001b[49m\u001b[43m \u001b[49m\u001b[43mspecies\u001b[49m\u001b[43m,\u001b[49m\u001b[43m \u001b[49m\u001b[43mr_cut\u001b[49m\u001b[43m,\u001b[49m\u001b[43m \u001b[49m\u001b[43mn_max\u001b[49m\u001b[43m,\u001b[49m\u001b[43m \u001b[49m\u001b[43ml_max\u001b[49m\u001b[43m)\u001b[49m\n",
      "Cell \u001b[1;32mIn[65], line 14\u001b[0m, in \u001b[0;36msoapmatrices\u001b[1;34m(train, species, r_cut, n_max, l_max)\u001b[0m\n\u001b[0;32m     11\u001b[0m \u001b[38;5;66;03m#Number of features in soap object\u001b[39;00m\n\u001b[0;32m     12\u001b[0m num_feat \u001b[38;5;241m=\u001b[39m soap\u001b[38;5;241m.\u001b[39mget_number_of_features()\n\u001b[1;32m---> 14\u001b[0m soaps \u001b[38;5;241m=\u001b[39m \u001b[43mnp\u001b[49m\u001b[38;5;241;43m.\u001b[39;49m\u001b[43mzeros\u001b[49m\u001b[43m(\u001b[49m\u001b[43m(\u001b[49m\u001b[38;5;28;43mlen\u001b[39;49m\u001b[43m(\u001b[49m\u001b[43mtrain\u001b[49m\u001b[43m)\u001b[49m\u001b[43m,\u001b[49m\u001b[43mnum_feat\u001b[49m\u001b[43m)\u001b[49m\u001b[43m)\u001b[49m\n\u001b[0;32m     15\u001b[0m \u001b[38;5;28;01mfor\u001b[39;00m i,atoms \u001b[38;5;129;01min\u001b[39;00m \u001b[38;5;28menumerate\u001b[39m(train\u001b[38;5;241m.\u001b[39matoms):\n\u001b[0;32m     16\u001b[0m     \u001b[38;5;28;01mif\u001b[39;00m i\u001b[38;5;241m%\u001b[39m\u001b[38;5;241m1000\u001b[39m \u001b[38;5;241m==\u001b[39m \u001b[38;5;241m0\u001b[39m:\n",
      "\u001b[1;31mMemoryError\u001b[0m: Unable to allocate 238. MiB for an array with shape (8000, 3906) and data type float64"
     ]
    }
   ],
   "source": [
    "### fingerprints #2\n",
    "\n",
    "def soapmatrices(train, species, r_cut, n_max, l_max):\n",
    "    soap = SOAP(\n",
    "    species=species,\n",
    "    r_cut=r_cut,\n",
    "    n_max=n_max,\n",
    "    l_max=l_max,\n",
    "    )  \n",
    "\n",
    "    #Number of features in soap object\n",
    "    num_feat = soap.get_number_of_features()\n",
    "    \n",
    "    soaps = np.zeros((len(train),num_feat))\n",
    "    for i,atoms in enumerate(train.atoms):\n",
    "        if i%1000 == 0:\n",
    "            print(i)\n",
    "        soaps[i,:] = soap.create(atoms)\n",
    "    \n",
    "    return soaps\n",
    "\n",
    "species = summary['species']\n",
    "r_cut = 2\n",
    "n_max = 1\n",
    "l_max = 1\n",
    "\n",
    "soapmatrices(train, species, r_cut, n_max, l_max)"
   ]
  },
  {
   "cell_type": "code",
   "execution_count": null,
   "metadata": {},
   "outputs": [
    {
     "name": "stdout",
     "output_type": "stream",
     "text": [
      "X: (8000, 400)\n",
      "y: (8000, 1)\n"
     ]
    }
   ],
   "source": [
    "# Set target and feature vector \n",
    "X = pd.DataFrame(data = soaps, index=train.id)\n",
    "y = pd.DataFrame(train['hform'].values, index = train.id)\n",
    "print('X: {}'.format(X.shape))\n",
    "print('y: {}'.format(y.shape))"
   ]
  },
  {
   "cell_type": "code",
   "execution_count": 27,
   "metadata": {},
   "outputs": [],
   "source": [
    "# Split training data into a training set and a validation set\n",
    "X_train, X_test, y_train, y_test = train_test_split(X, y, test_size=0.2, random_state=251)\n",
    "y_test_values = y_test.values  # Extract values as a NumPy array\n",
    "y_train_values = y_train.values  # Extract values as a NumPy array"
   ]
  },
  {
   "cell_type": "code",
   "execution_count": 28,
   "metadata": {},
   "outputs": [
    {
     "name": "stdout",
     "output_type": "stream",
     "text": [
      "Shape of split data:  (6400, 400) (1600, 400) (6400, 1) (1600, 1)\n"
     ]
    },
    {
     "data": {
      "image/png": "[encoded data removed]",
      "text/plain": [
       "<Figure size 800x400 with 1 Axes>"
      ]
     },
     "metadata": {},
     "output_type": "display_data"
    }
   ],
   "source": [
    "### Check split data\n",
    "print('Shape of split data: ',X_train.shape, X_test.shape, y_train.shape, y_test.shape)\n",
    "\n",
    "plt.figure(figsize = (8, 4))\n",
    "plt.hist(y_train, bins=30, alpha=0.7, density=True, label='Train set')\n",
    "plt.hist(y_test, bins=30, alpha=0.7, density=True, label='Test set')\n",
    "\n",
    "plt.grid()\n",
    "plt.title(\"Normalized histogram of test and train sets\")\n",
    "plt.xlabel(\"Heat of formation, eV/atom\")\n",
    "plt.legend()\n",
    "plt.show()\n"
   ]
  },
  {
   "cell_type": "code",
   "execution_count": 29,
   "metadata": {},
   "outputs": [],
   "source": [
    "# PC Decomposition\n",
    "\n",
    "n_PC = 135\n",
    "\n",
    "X_train_pca, X_test_pca = PCA_decomposition(X_train, X_test, n_PC)"
   ]
  },
  {
   "cell_type": "code",
   "execution_count": 30,
   "metadata": {},
   "outputs": [],
   "source": [
    "# Gaussian process\n",
    "simpleGP = GP(X_train_pca, y_train_values, sigma = 0.003)"
   ]
  },
  {
   "cell_type": "code",
   "execution_count": null,
   "metadata": {},
   "outputs": [],
   "source": []
  },
  {
   "cell_type": "code",
   "execution_count": 37,
   "metadata": {},
   "outputs": [],
   "source": [
    "# Train and predict\n",
    "k = 10\n",
    "l= 0.04\n",
    "simpleGP.train_GP(l, k)\n",
    "predictions = np.array([simpleGP.predict(fingerprint) for fingerprint in X_test_pca])\n"
   ]
  },
  {
   "cell_type": "code",
   "execution_count": 38,
   "metadata": {},
   "outputs": [
    {
     "name": "stdout",
     "output_type": "stream",
     "text": [
      "With l = 0.04 RMSE = 0.6919968403043593\n"
     ]
    },
    {
     "data": {
      "text/plain": [
       "[<matplotlib.lines.Line2D at 0x1b7001c5dc0>]"
      ]
     },
     "execution_count": 38,
     "metadata": {},
     "output_type": "execute_result"
    },
    {
     "data": {
      "image/png": "[encoded data removed]",
      "text/plain": [
       "<Figure size 640x480 with 1 Axes>"
      ]
     },
     "metadata": {},
     "output_type": "display_data"
    }
   ],
   "source": [
    "print(f\"With l = {l} RMSE = {rmse(y_test_values, predictions)}\")\n",
    "\n",
    "plt.figure()\n",
    "plt.scatter(y_test_values, predictions, s = 1,color='black')\n",
    "plt.xlabel('Test values')\n",
    "plt.ylabel('Predicted values')\n",
    "plt.grid()\n",
    "xg = np.linspace(-4,1.5, 2)\n",
    "plt.plot(xg,xg, color = 'red', linestyle = 'dashed')"
   ]
  }
 ],
 "metadata": {
  "kernelspec": {
   "display_name": "base",
   "language": "python",
   "name": "python3"
  },
  "language_info": {
   "codemirror_mode": {
    "name": "ipython",
    "version": 3
   },
   "file_extension": ".py",
   "mimetype": "text/x-python",
   "name": "python",
   "nbconvert_exporter": "python",
   "pygments_lexer": "ipython3",
   "version": "3.8.18"
  }
 },
 "nbformat": 4,
 "nbformat_minor": 2
}
