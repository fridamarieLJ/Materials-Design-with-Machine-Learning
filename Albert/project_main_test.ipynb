{
 "cells": [
  {
   "cell_type": "code",
   "execution_count": 1,
   "metadata": {},
   "outputs": [],
   "source": [
    "from project_dataload import *\n",
    "from project_gaussian import *\n",
    "\n",
    "import matplotlib.pyplot as plt\n",
    "from dscribe.descriptors import CoulombMatrix\n"
   ]
  },
  {
   "cell_type": "code",
   "execution_count": 5,
   "metadata": {},
   "outputs": [
    {
     "name": "stdout",
     "output_type": "stream",
     "text": [
      "Train data shape: (8000, 4)\n",
      "     id        formula                                              atoms  \\\n",
      "0  5154         Zr2BO2  (Atom('Zr', [1.6878604657, 0.892285133, 8.1345...   \n",
      "1   984          Ni2S6  (Atom('Ni', [1.1571403137, 0.934725185, 12.234...   \n",
      "2  1634  Cd4K2Cl6O6Te2  (Atom('Cd', [2.7840261751, 5.6922402759, 26.71...   \n",
      "3  1872      Hf4H2N3O2  (Atom('Hf', [0.0, 1.8677827772, 12.2421466347]...   \n",
      "4  2977         Sc2Te2  (Atom('Te', [0.0003850118, 0.0002469812, 7.461...   \n",
      "\n",
      "      hform  \n",
      "0 -2.037877  \n",
      "1 -0.091020  \n",
      "2 -1.109751  \n",
      "3 -1.609142  \n",
      "4 -0.854593  \n",
      "Train data shape: (4000, 3)\n",
      "      id     formula                                              atoms\n",
      "0   8538    HfZrSTe2  (Atom('S', [-1.0327079693, 4.2080182974, 22.81...\n",
      "1   9052    Nb2P2Te6  (Atom('Nb', [0.3517632032, -0.2042419274, 9.20...\n",
      "2  10503  Au2InI2Se2  (Atom('Se', [0.2238411856, 0.8131388722, 26.83...\n",
      "3    611   AuTlO6Sb2  (Atom('Au', [0.0002076097, -0.0001198635, 16.6...\n",
      "4   7212       NbBr2  (Atom('Nb', [6.208919093e-19, -1.371643362e-17...\n"
     ]
    },
    {
     "data": {
      "text/plain": [
       "20"
      ]
     },
     "execution_count": 5,
     "metadata": {},
     "output_type": "execute_result"
    }
   ],
   "source": [
    "data_dir=\"./project_data/\"\n",
    "\n",
    "train, test = data_load(data_dir)\n",
    "\n",
    "check_data(train)\n",
    "check_data(test)\n",
    "summary = summarize_1(train, test)\n",
    "summary['max_number_of_atoms']"
   ]
  }
 ],
 "metadata": {
  "kernelspec": {
   "display_name": "base",
   "language": "python",
   "name": "python3"
  },
  "language_info": {
   "codemirror_mode": {
    "name": "ipython",
    "version": 3
   },
   "file_extension": ".py",
   "mimetype": "text/x-python",
   "name": "python",
   "nbconvert_exporter": "python",
   "pygments_lexer": "ipython3",
   "version": "3.8.18"
  }
 },
 "nbformat": 4,
 "nbformat_minor": 2
}
