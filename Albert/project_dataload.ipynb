{
 "cells": [
  {
   "cell_type": "markdown",
   "metadata": {},
   "source": [
    "# Loading of data"
   ]
  },
  {
   "cell_type": "code",
   "execution_count": 2,
   "metadata": {},
   "outputs": [],
   "source": [
    "import numpy as np\n",
    "import pandas as pd\n",
    "import json\n",
    "from ase import Atoms\n",
    "import matplotlib.pyplot as plt\n",
    "import matplotlib"
   ]
  },
  {
   "cell_type": "markdown",
   "metadata": {},
   "source": [
    "### Description of function\n",
    "Input: string where data is located\n",
    "\n",
    "Output:\n",
    "lists of    \n",
    "species = []\n",
    "number_of_atoms = []\n",
    "atomic_numbers = []"
   ]
  },
  {
   "cell_type": "code",
   "execution_count": 3,
   "metadata": {},
   "outputs": [
    {
     "data": {
      "text/plain": [
       "pandas.core.frame.DataFrame"
      ]
     },
     "execution_count": 3,
     "metadata": {},
     "output_type": "execute_result"
    }
   ],
   "source": [
    "### Set directory.\n",
    "# with './xxx' syntax, it's assumed that datafile is in same place as current file\n",
    "\n",
    "def data_load(data_dir):\n",
    "    \"\"\"Data loading function\n",
    "    Input:\n",
    "        data_dir (str): direcory to data folder, relative to current working directory\n",
    "    Returns: \n",
    "        train, test (pd.dataframe): dataframe with info about 2D materials\n",
    "    \"\"\"\n",
    "\n",
    "    # Loading the data as pandas DataFrame\n",
    "    train = pd.DataFrame(json.load(open(data_dir + \"train.json\", \"rb\")))\n",
    "    test = pd.DataFrame(json.load(open(data_dir + \"test.json\", \"rb\")))\n",
    "\n",
    "    ## Transform atoms entry to ASE atoms object\n",
    "    train.atoms = train.atoms.apply(lambda x: Atoms(**x)) # OBS This one is important!\n",
    "    test.atoms = test.atoms.apply(lambda x: Atoms(**x))\n",
    "    return train, test\n",
    "\n",
    "\n",
    "train, test = data_load(data_dir=\"./project_data/\")\n",
    "type(train)"
   ]
  },
  {
   "cell_type": "code",
   "execution_count": 4,
   "metadata": {},
   "outputs": [
    {
     "name": "stdout",
     "output_type": "stream",
     "text": [
      "Train data shape: (4000, 3)\n",
      "      id     formula                                              atoms\n",
      "0   8538    HfZrSTe2  (Atom('S', [-1.0327079693, 4.2080182974, 22.81...\n",
      "1   9052    Nb2P2Te6  (Atom('Nb', [0.3517632032, -0.2042419274, 9.20...\n",
      "2  10503  Au2InI2Se2  (Atom('Se', [0.2238411856, 0.8131388722, 26.83...\n",
      "3    611   AuTlO6Sb2  (Atom('Au', [0.0002076097, -0.0001198635, 16.6...\n",
      "4   7212       NbBr2  (Atom('Nb', [6.208919093e-19, -1.371643362e-17...\n"
     ]
    }
   ],
   "source": [
    "### Viewing train or test data\n",
    "def check_data(data):\n",
    "    \"\"\"print dimensions of leaded data\"\"\"  \n",
    "    print('Train data shape: {}'.format(data.shape))\n",
    "    print(data.head())\n",
    "\n",
    "check_data(test)"
   ]
  },
  {
   "cell_type": "code",
   "execution_count": 5,
   "metadata": {},
   "outputs": [
    {
     "name": "stdout",
     "output_type": "stream",
     "text": [
      "20\n"
     ]
    }
   ],
   "source": [
    "def summarize_1(train,test):\n",
    "    \"\"\"Get info about species, atomioc numbers, number of atoms in each species. \n",
    "    And of inputted species: max number of atoms, min, and max atomic number \n",
    "    Input:\n",
    "        data (pd dataframe): dataframe with 'atoms' column, containing instances of ASE's atoms class\n",
    "    Returns:\n",
    "        dict with 3 lists and 3 vals\n",
    "        species (list of str): atomic species in all materials\n",
    "        atomic_number (list of int): all atomic numbers represented in materiaæ\n",
    "        number_of_atoms (list of int): number of atoms for each species\n",
    "        max_number_of_atoms (int): ...\n",
    "        min_atomic_number (int): ...\n",
    "        max_atomic_number (int): ...\n",
    "    \"\"\"\n",
    "    species = []\n",
    "    number_of_atoms = []\n",
    "    atomic_numbers = []\n",
    "    for atom in pd.concat([train.atoms,test.atoms]):\n",
    "        species = list(set(species+atom.get_chemical_symbols()))\n",
    "        atomic_numbers = list(set(atomic_numbers+list(atom.get_atomic_numbers())))\n",
    "        number_of_atoms.append(len(atom))\n",
    "\n",
    "    max_number_of_atoms = np.max(number_of_atoms)\n",
    "    min_atomic_number = np.min(atomic_numbers)\n",
    "    max_atomic_number = np.max(atomic_numbers)\n",
    "    \n",
    "    dic = {'species': species,\n",
    "           'atomic_numbers': atomic_numbers,\n",
    "           'number_of_atoms': number_of_atoms,\n",
    "           'max_number_of_atoms': max_number_of_atoms,\n",
    "           'min_atomic_number': min_atomic_number,\n",
    "           'max_atomic_number': max_atomic_number}\n",
    "    \n",
    "    return dic\n",
    "\n",
    "data_preproc = summarize_1(train,test)\n",
    "\n",
    "print(data_preproc['max_number_of_atoms'])\n"
   ]
  }
 ],
 "metadata": {
  "kernelspec": {
   "display_name": "base",
   "language": "python",
   "name": "python3"
  },
  "language_info": {
   "codemirror_mode": {
    "name": "ipython",
    "version": 3
   },
   "file_extension": ".py",
   "mimetype": "text/x-python",
   "name": "python",
   "nbconvert_exporter": "python",
   "pygments_lexer": "ipython3",
   "version": "3.8.18"
  }
 },
 "nbformat": 4,
 "nbformat_minor": 2
}
