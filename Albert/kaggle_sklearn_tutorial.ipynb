{
 "cells": [
  {
   "cell_type": "markdown",
   "metadata": {},
   "source": [
    "### Imports "
   ]
  },
  {
   "cell_type": "code",
   "execution_count": 2,
   "metadata": {},
   "outputs": [],
   "source": [
    "import numpy as np\n",
    "import pandas as pd\n",
    "import json\n",
    "from dscribe.descriptors import CoulombMatrix\n",
    "from ase import Atoms\n",
    "import matplotlib.pyplot as plt\n",
    "import matplotlib\n",
    "font = {'size'   : 22}\n",
    "\n",
    "matplotlib.rc('font', **font)"
   ]
  },
  {
   "cell_type": "markdown",
   "metadata": {},
   "source": [
    "## Loading data and setting up the data frames"
   ]
  },
  {
   "cell_type": "code",
   "execution_count": 5,
   "metadata": {},
   "outputs": [],
   "source": [
    "data_dir = \"./project_data/\" # Specify your data path (Folder in which the files are placed)"
   ]
  },
  {
   "cell_type": "code",
   "execution_count": 6,
   "metadata": {},
   "outputs": [],
   "source": [
    "# Loading the data as pandas DataFrame\n",
    "test = pd.read_json(data_dir + \"test.json\")\n",
    "train = pd.read_json(data_dir + 'train.json')\n",
    "## Transform atoms entry to ASE atoms object\n",
    "train.atoms = train.atoms.apply(lambda x: Atoms(**x)) # OBS This one is important!\n",
    "test.atoms = test.atoms.apply(lambda x: Atoms(**x))"
   ]
  },
  {
   "cell_type": "code",
   "execution_count": 7,
   "metadata": {},
   "outputs": [
    {
     "name": "stdout",
     "output_type": "stream",
     "text": [
      "Train data shape: (8000, 4)\n"
     ]
    },
    {
     "data": {
      "text/html": [
       "<div>\n",
       "<style scoped>\n",
       "    .dataframe tbody tr th:only-of-type {\n",
       "        vertical-align: middle;\n",
       "    }\n",
       "\n",
       "    .dataframe tbody tr th {\n",
       "        vertical-align: top;\n",
       "    }\n",
       "\n",
       "    .dataframe thead th {\n",
       "        text-align: right;\n",
       "    }\n",
       "</style>\n",
       "<table border=\"1\" class=\"dataframe\">\n",
       "  <thead>\n",
       "    <tr style=\"text-align: right;\">\n",
       "      <th></th>\n",
       "      <th>id</th>\n",
       "      <th>formula</th>\n",
       "      <th>atoms</th>\n",
       "      <th>hform</th>\n",
       "    </tr>\n",
       "  </thead>\n",
       "  <tbody>\n",
       "    <tr>\n",
       "      <th>0</th>\n",
       "      <td>5154</td>\n",
       "      <td>Zr2BO2</td>\n",
       "      <td>(Atom('Zr', [1.6878604657, 0.892285133, 8.1345...</td>\n",
       "      <td>-2.037877</td>\n",
       "    </tr>\n",
       "    <tr>\n",
       "      <th>1</th>\n",
       "      <td>984</td>\n",
       "      <td>Ni2S6</td>\n",
       "      <td>(Atom('Ni', [1.1571403137, 0.934725185, 12.234...</td>\n",
       "      <td>-0.091020</td>\n",
       "    </tr>\n",
       "    <tr>\n",
       "      <th>2</th>\n",
       "      <td>1634</td>\n",
       "      <td>Cd4K2Cl6O6Te2</td>\n",
       "      <td>(Atom('Cd', [2.7840261751, 5.6922402759, 26.71...</td>\n",
       "      <td>-1.109751</td>\n",
       "    </tr>\n",
       "    <tr>\n",
       "      <th>3</th>\n",
       "      <td>1872</td>\n",
       "      <td>Hf4H2N3O2</td>\n",
       "      <td>(Atom('Hf', [0.0, 1.8677827772, 12.2421466347]...</td>\n",
       "      <td>-1.609142</td>\n",
       "    </tr>\n",
       "    <tr>\n",
       "      <th>4</th>\n",
       "      <td>2977</td>\n",
       "      <td>Sc2Te2</td>\n",
       "      <td>(Atom('Te', [0.0003850118, 0.0002469812, 7.461...</td>\n",
       "      <td>-0.854593</td>\n",
       "    </tr>\n",
       "  </tbody>\n",
       "</table>\n",
       "</div>"
      ],
      "text/plain": [
       "     id        formula                                              atoms  \\\n",
       "0  5154         Zr2BO2  (Atom('Zr', [1.6878604657, 0.892285133, 8.1345...   \n",
       "1   984          Ni2S6  (Atom('Ni', [1.1571403137, 0.934725185, 12.234...   \n",
       "2  1634  Cd4K2Cl6O6Te2  (Atom('Cd', [2.7840261751, 5.6922402759, 26.71...   \n",
       "3  1872      Hf4H2N3O2  (Atom('Hf', [0.0, 1.8677827772, 12.2421466347]...   \n",
       "4  2977         Sc2Te2  (Atom('Te', [0.0003850118, 0.0002469812, 7.461...   \n",
       "\n",
       "      hform  \n",
       "0 -2.037877  \n",
       "1 -0.091020  \n",
       "2 -1.109751  \n",
       "3 -1.609142  \n",
       "4 -0.854593  "
      ]
     },
     "execution_count": 7,
     "metadata": {},
     "output_type": "execute_result"
    }
   ],
   "source": [
    "print('Train data shape: {}'.format(train.shape))\n",
    "train.head()"
   ]
  },
  {
   "cell_type": "code",
   "execution_count": 8,
   "metadata": {},
   "outputs": [
    {
     "name": "stdout",
     "output_type": "stream",
     "text": [
      "Test data shape: (4000, 3)\n"
     ]
    },
    {
     "data": {
      "text/html": [
       "<div>\n",
       "<style scoped>\n",
       "    .dataframe tbody tr th:only-of-type {\n",
       "        vertical-align: middle;\n",
       "    }\n",
       "\n",
       "    .dataframe tbody tr th {\n",
       "        vertical-align: top;\n",
       "    }\n",
       "\n",
       "    .dataframe thead th {\n",
       "        text-align: right;\n",
       "    }\n",
       "</style>\n",
       "<table border=\"1\" class=\"dataframe\">\n",
       "  <thead>\n",
       "    <tr style=\"text-align: right;\">\n",
       "      <th></th>\n",
       "      <th>id</th>\n",
       "      <th>formula</th>\n",
       "      <th>atoms</th>\n",
       "    </tr>\n",
       "  </thead>\n",
       "  <tbody>\n",
       "    <tr>\n",
       "      <th>0</th>\n",
       "      <td>8538</td>\n",
       "      <td>HfZrSTe2</td>\n",
       "      <td>(Atom('S', [-1.0327079693, 4.2080182974, 22.81...</td>\n",
       "    </tr>\n",
       "    <tr>\n",
       "      <th>1</th>\n",
       "      <td>9052</td>\n",
       "      <td>Nb2P2Te6</td>\n",
       "      <td>(Atom('Nb', [0.3517632032, -0.2042419274, 9.20...</td>\n",
       "    </tr>\n",
       "    <tr>\n",
       "      <th>2</th>\n",
       "      <td>10503</td>\n",
       "      <td>Au2InI2Se2</td>\n",
       "      <td>(Atom('Se', [0.22384118560000002, 0.8131388722...</td>\n",
       "    </tr>\n",
       "    <tr>\n",
       "      <th>3</th>\n",
       "      <td>611</td>\n",
       "      <td>AuTlO6Sb2</td>\n",
       "      <td>(Atom('Au', [0.0002076097, -0.0001198635000000...</td>\n",
       "    </tr>\n",
       "    <tr>\n",
       "      <th>4</th>\n",
       "      <td>7212</td>\n",
       "      <td>NbBr2</td>\n",
       "      <td>(Atom('Nb', [6.208919093000001e-19, -1.3716433...</td>\n",
       "    </tr>\n",
       "  </tbody>\n",
       "</table>\n",
       "</div>"
      ],
      "text/plain": [
       "      id     formula                                              atoms\n",
       "0   8538    HfZrSTe2  (Atom('S', [-1.0327079693, 4.2080182974, 22.81...\n",
       "1   9052    Nb2P2Te6  (Atom('Nb', [0.3517632032, -0.2042419274, 9.20...\n",
       "2  10503  Au2InI2Se2  (Atom('Se', [0.22384118560000002, 0.8131388722...\n",
       "3    611   AuTlO6Sb2  (Atom('Au', [0.0002076097, -0.0001198635000000...\n",
       "4   7212       NbBr2  (Atom('Nb', [6.208919093000001e-19, -1.3716433..."
      ]
     },
     "execution_count": 8,
     "metadata": {},
     "output_type": "execute_result"
    }
   ],
   "source": [
    "print('Test data shape: {}'.format(test.shape))\n",
    "test.head()"
   ]
  },
  {
   "cell_type": "code",
   "execution_count": 9,
   "metadata": {},
   "outputs": [
    {
     "data": {
      "text/html": [
       "<div>\n",
       "<style scoped>\n",
       "    .dataframe tbody tr th:only-of-type {\n",
       "        vertical-align: middle;\n",
       "    }\n",
       "\n",
       "    .dataframe tbody tr th {\n",
       "        vertical-align: top;\n",
       "    }\n",
       "\n",
       "    .dataframe thead th {\n",
       "        text-align: right;\n",
       "    }\n",
       "</style>\n",
       "<table border=\"1\" class=\"dataframe\">\n",
       "  <thead>\n",
       "    <tr style=\"text-align: right;\">\n",
       "      <th></th>\n",
       "      <th>id</th>\n",
       "      <th>hform</th>\n",
       "    </tr>\n",
       "  </thead>\n",
       "  <tbody>\n",
       "    <tr>\n",
       "      <th>count</th>\n",
       "      <td>8000.000000</td>\n",
       "      <td>8000.000000</td>\n",
       "    </tr>\n",
       "    <tr>\n",
       "      <th>mean</th>\n",
       "      <td>7903.234875</td>\n",
       "      <td>-0.622866</td>\n",
       "    </tr>\n",
       "    <tr>\n",
       "      <th>std</th>\n",
       "      <td>4560.292278</td>\n",
       "      <td>0.672705</td>\n",
       "    </tr>\n",
       "    <tr>\n",
       "      <th>min</th>\n",
       "      <td>1.000000</td>\n",
       "      <td>-4.016701</td>\n",
       "    </tr>\n",
       "    <tr>\n",
       "      <th>25%</th>\n",
       "      <td>4020.750000</td>\n",
       "      <td>-0.981515</td>\n",
       "    </tr>\n",
       "    <tr>\n",
       "      <th>50%</th>\n",
       "      <td>7945.000000</td>\n",
       "      <td>-0.474902</td>\n",
       "    </tr>\n",
       "    <tr>\n",
       "      <th>75%</th>\n",
       "      <td>11855.500000</td>\n",
       "      <td>-0.160427</td>\n",
       "    </tr>\n",
       "    <tr>\n",
       "      <th>max</th>\n",
       "      <td>15732.000000</td>\n",
       "      <td>1.767721</td>\n",
       "    </tr>\n",
       "  </tbody>\n",
       "</table>\n",
       "</div>"
      ],
      "text/plain": [
       "                 id        hform\n",
       "count   8000.000000  8000.000000\n",
       "mean    7903.234875    -0.622866\n",
       "std     4560.292278     0.672705\n",
       "min        1.000000    -4.016701\n",
       "25%     4020.750000    -0.981515\n",
       "50%     7945.000000    -0.474902\n",
       "75%    11855.500000    -0.160427\n",
       "max    15732.000000     1.767721"
      ]
     },
     "execution_count": 9,
     "metadata": {},
     "output_type": "execute_result"
    }
   ],
   "source": [
    "train.describe()"
   ]
  },
  {
   "cell_type": "markdown",
   "metadata": {},
   "source": [
    "## Creating the Coulomb matrix fingerprint\n",
    "#### First a preprocessing step"
   ]
  },
  {
   "cell_type": "code",
   "execution_count": 10,
   "metadata": {},
   "outputs": [
    {
     "name": "stdout",
     "output_type": "stream",
     "text": [
      "20\n"
     ]
    }
   ],
   "source": [
    "species = []\n",
    "number_of_atoms = []\n",
    "atomic_numbers = []\n",
    "for atom in pd.concat([train.atoms,test.atoms]):\n",
    "    species = list(set(species+atom.get_chemical_symbols()))\n",
    "    atomic_numbers = list(set(atomic_numbers+list(atom.get_atomic_numbers())))\n",
    "    number_of_atoms.append(len(atom))\n",
    "\n",
    "max_number_of_atoms = np.max(number_of_atoms)\n",
    "min_atomic_number = np.min(atomic_numbers)\n",
    "max_atomic_number = np.max(atomic_numbers)\n",
    "\n",
    "print(max_number_of_atoms)"
   ]
  },
  {
   "cell_type": "markdown",
   "metadata": {},
   "source": [
    "#### Coulomb matrix\n",
    "DScribe: Python package for transforming ASE Atoms into fingerprints!\n",
    "https://singroup.github.io/dscribe/latest/\n",
    "\n",
    "Note: This package is built for Linux/Mac and can be difficult to install on Windows and M1 Macs. See the instructions at the end of this notebook."
   ]
  },
  {
   "cell_type": "code",
   "execution_count": 11,
   "metadata": {},
   "outputs": [],
   "source": [
    "# Setting up the CM descriptor\n",
    "cm = CoulombMatrix(\n",
    "    n_atoms_max=max_number_of_atoms,\n",
    ")"
   ]
  },
  {
   "cell_type": "code",
   "execution_count": 12,
   "metadata": {},
   "outputs": [
    {
     "name": "stdout",
     "output_type": "stream",
     "text": [
      "0\n",
      "1000\n",
      "2000\n",
      "3000\n",
      "4000\n",
      "5000\n",
      "6000\n",
      "7000\n",
      "8000\n"
     ]
    }
   ],
   "source": [
    "cmats = np.zeros((len(train),max_number_of_atoms**2))\n",
    "for i,atoms in enumerate(train.atoms):\n",
    "    if i%1000 == 0:\n",
    "        print(i)\n",
    "    cmats[i,:] = cm.create(atoms)\n",
    "print(len(cmats))"
   ]
  },
  {
   "cell_type": "code",
   "execution_count": 13,
   "metadata": {},
   "outputs": [
    {
     "data": {
      "text/plain": [
       "(8000, 400)"
      ]
     },
     "execution_count": 13,
     "metadata": {},
     "output_type": "execute_result"
    }
   ],
   "source": [
    "cmats.shape"
   ]
  },
  {
   "cell_type": "markdown",
   "metadata": {},
   "source": [
    "# Setting target and feature vector"
   ]
  },
  {
   "cell_type": "code",
   "execution_count": 14,
   "metadata": {},
   "outputs": [
    {
     "name": "stdout",
     "output_type": "stream",
     "text": [
      "X: (8000, 400)\n",
      "y: (8000,)\n"
     ]
    }
   ],
   "source": [
    "X = pd.DataFrame(data = cmats, index=train.id)\n",
    "y = train['hform']\n",
    "print('X: {}'.format(X.shape))\n",
    "print('y: {}'.format(y.shape))"
   ]
  },
  {
   "cell_type": "markdown",
   "metadata": {},
   "source": [
    "## Splitting into test and train set"
   ]
  },
  {
   "cell_type": "code",
   "execution_count": 24,
   "metadata": {},
   "outputs": [
    {
     "data": {
      "image/png": "[encoded data removed]",
      "text/plain": [
       "<Figure size 1200x600 with 1 Axes>"
      ]
     },
     "metadata": {},
     "output_type": "display_data"
    }
   ],
   "source": [
    "from sklearn.model_selection import train_test_split\n",
    "\n",
    "X_train,X_test,y_train,y_test = train_test_split(X,y,test_size=0.2,random_state=251)\n",
    "\n",
    "plt.figure(figsize = (12, 6))\n",
    "plt.hist(y_train, bins=30, alpha=0.7, density=True, label='Train set')\n",
    "plt.hist(y_test, bins=30, alpha=0.7, density=True, label='Test set')\n",
    "\n",
    "plt.title(\"Normalized histogram of test and train sets\")\n",
    "plt.xlabel(\"Heat of formation, eV/atom\")\n",
    "plt.legend()\n",
    "plt.show()\n"
   ]
  },
  {
   "cell_type": "markdown",
   "metadata": {},
   "source": [
    "# Sklearn Linear Regression model"
   ]
  },
  {
   "cell_type": "code",
   "execution_count": 22,
   "metadata": {},
   "outputs": [],
   "source": [
    "from sklearn.linear_model import LinearRegression, Ridge\n",
    "from sklearn.metrics import mean_squared_error as mse\n",
    "from sklearn.decomposition import PCA\n",
    "\n",
    "def rmse(y_true, y_pred):\n",
    "    return np.sqrt(mse(y_true, y_pred))"
   ]
  },
  {
   "cell_type": "code",
   "execution_count": 25,
   "metadata": {},
   "outputs": [
    {
     "name": "stdout",
     "output_type": "stream",
     "text": [
      "With 1 PCA components 62.6958% of the variance is explained\n",
      "X_train: (6400, 1)\n",
      "X_test: (1600, 1)\n"
     ]
    }
   ],
   "source": [
    "n_comp_PCA = 1\n",
    "\n",
    "pca = PCA(n_components = n_comp_PCA).fit(X_train)\n",
    "X_train = pca.transform(X_train)\n",
    "X_test = pca.transform(X_test)\n",
    "print(\"With {} PCA components {var:0.4f}% of the variance is explained\".format(n_comp_PCA, var = 100*np.sum(pca.explained_variance_ratio_)))\n",
    "print('X_train: {}'.format(X_train.shape))\n",
    "print('X_test: {}'.format(X_test.shape))"
   ]
  },
  {
   "cell_type": "code",
   "execution_count": 15,
   "metadata": {},
   "outputs": [
    {
     "data": {
      "text/plain": [
       "LinearRegression()"
      ]
     },
     "execution_count": 15,
     "metadata": {},
     "output_type": "execute_result"
    }
   ],
   "source": [
    "model = LinearRegression()\n",
    "model.fit(X=X_train,y=y_train)"
   ]
  },
  {
   "cell_type": "code",
   "execution_count": 16,
   "metadata": {},
   "outputs": [
    {
     "data": {
      "text/plain": [
       "array([-0.70051874, -0.56113019, -0.69268714, ..., -0.69816129,\n",
       "       -0.65002079, -0.63147501])"
      ]
     },
     "execution_count": 16,
     "metadata": {},
     "output_type": "execute_result"
    }
   ],
   "source": [
    "train_prediction = model.predict(X_train)\n",
    "train_prediction"
   ]
  },
  {
   "cell_type": "code",
   "execution_count": 17,
   "metadata": {},
   "outputs": [
    {
     "data": {
      "text/plain": [
       "array([-0.70196184, -0.7024337 , -0.66178103, ..., -0.72777871,\n",
       "       -0.65236335, -0.67732851])"
      ]
     },
     "execution_count": 17,
     "metadata": {},
     "output_type": "execute_result"
    }
   ],
   "source": [
    "test_prediction = model.predict(X_test)\n",
    "test_prediction"
   ]
  },
  {
   "cell_type": "code",
   "execution_count": 18,
   "metadata": {},
   "outputs": [
    {
     "name": "stdout",
     "output_type": "stream",
     "text": [
      "Train RMSE = 0.65\n",
      "Test RMSE = 0.69\n"
     ]
    }
   ],
   "source": [
    "print('Train RMSE = {:.2f}'.format(rmse(y_train,train_prediction)))\n",
    "print('Test RMSE = {:.2f}'.format(rmse(y_test,test_prediction)))"
   ]
  },
  {
   "cell_type": "code",
   "execution_count": 19,
   "metadata": {},
   "outputs": [
    {
     "data": {
      "image/png": "[encoded data removed]",
      "text/plain": [
       "<Figure size 864x432 with 1 Axes>"
      ]
     },
     "metadata": {
      "needs_background": "light"
     },
     "output_type": "display_data"
    }
   ],
   "source": [
    "fig = plt.figure(figsize = (12, 6))\n",
    "\n",
    "plt.title(\"Coulomb matrix fingerprint, PCA and Linear Regression\")\n",
    "plt.scatter(y_train, model.predict(X_train), label = 'Train RMSE = {:.2f}'.format(rmse(y_train,train_prediction)))\n",
    "plt.scatter(y_test, model.predict(X_test), label = 'Test RMSE = {:.2f}'.format(rmse(y_test,test_prediction)))\n",
    "plt.plot(y_test, y_test, linestyle = \"--\", color = \"k\")\n",
    "plt.xlabel(\"$hform_{true}$\")\n",
    "plt.ylabel(\"$hform_{pred}$\")\n",
    "plt.legend()\n",
    "plt.show()"
   ]
  },
  {
   "cell_type": "markdown",
   "metadata": {},
   "source": [
    "Doesn't look good. Is it even better than predicting the average value?"
   ]
  },
  {
   "cell_type": "code",
   "execution_count": 20,
   "metadata": {},
   "outputs": [
    {
     "data": {
      "image/png": "[encoded data removed]",
      "text/plain": [
       "<Figure size 864x432 with 1 Axes>"
      ]
     },
     "metadata": {
      "needs_background": "light"
     },
     "output_type": "display_data"
    }
   ],
   "source": [
    "fig = plt.figure(figsize = (12, 6))\n",
    "\n",
    "train_avg_pred = [y_train.mean()]*len(y_train)\n",
    "test_avg_pred = [y_train.mean()]*len(y_test)\n",
    "\n",
    "plt.title(\"Average hform prediction\")\n",
    "plt.scatter(y_train, train_avg_pred, label = 'Train RMSE = {:.2f}'.format(rmse(y_train,train_avg_pred)))\n",
    "plt.scatter(y_test, test_avg_pred, label = 'Test RMSE = {:.2f}'.format(rmse(y_test,test_avg_pred)))\n",
    "plt.plot(y_test, y_test, linestyle = \"--\", color = \"k\")\n",
    "plt.xlabel(\"$hform_{true}$\")\n",
    "plt.ylabel(\"$hform_{pred}$\")\n",
    "plt.legend()\n",
    "plt.show()"
   ]
  },
  {
   "cell_type": "markdown",
   "metadata": {},
   "source": [
    "# Prepare submission to Kaggle"
   ]
  },
  {
   "cell_type": "code",
   "execution_count": 21,
   "metadata": {},
   "outputs": [
    {
     "name": "stdout",
     "output_type": "stream",
     "text": [
      "0\n",
      "1000\n",
      "2000\n",
      "3000\n",
      "4000\n"
     ]
    }
   ],
   "source": [
    "cmats_test = np.zeros((len(test),max_number_of_atoms**2))\n",
    "for i,atoms in enumerate(test.atoms):\n",
    "    if i%1000 == 0:\n",
    "        print(i)\n",
    "    cmats_test[i,:] = cm.create(atoms)\n",
    "print(len(cmats_test))"
   ]
  },
  {
   "cell_type": "code",
   "execution_count": 22,
   "metadata": {},
   "outputs": [
    {
     "data": {
      "text/plain": [
       "array([-0.60369639, -0.52216352, -0.46226478, ..., -0.63049356,\n",
       "       -0.75659381, -0.6374141 ])"
      ]
     },
     "execution_count": 22,
     "metadata": {},
     "output_type": "execute_result"
    }
   ],
   "source": [
    "X_test_kaggle = pd.DataFrame(data = cmats_test, index=test.id)\n",
    "X_test_kaggle = pca.transform(X_test_kaggle)\n",
    "\n",
    "Y_test_kaggle = model.predict(X_test_kaggle)\n",
    "Y_test_kaggle"
   ]
  },
  {
   "cell_type": "code",
   "execution_count": 23,
   "metadata": {},
   "outputs": [
    {
     "data": {
      "text/html": [
       "<div>\n",
       "<style scoped>\n",
       "    .dataframe tbody tr th:only-of-type {\n",
       "        vertical-align: middle;\n",
       "    }\n",
       "\n",
       "    .dataframe tbody tr th {\n",
       "        vertical-align: top;\n",
       "    }\n",
       "\n",
       "    .dataframe thead th {\n",
       "        text-align: right;\n",
       "    }\n",
       "</style>\n",
       "<table border=\"1\" class=\"dataframe\">\n",
       "  <thead>\n",
       "    <tr style=\"text-align: right;\">\n",
       "      <th></th>\n",
       "      <th>id</th>\n",
       "      <th>hform</th>\n",
       "    </tr>\n",
       "  </thead>\n",
       "  <tbody>\n",
       "    <tr>\n",
       "      <th>0</th>\n",
       "      <td>8538</td>\n",
       "      <td>-0.603696</td>\n",
       "    </tr>\n",
       "    <tr>\n",
       "      <th>1</th>\n",
       "      <td>9052</td>\n",
       "      <td>-0.522164</td>\n",
       "    </tr>\n",
       "    <tr>\n",
       "      <th>2</th>\n",
       "      <td>10503</td>\n",
       "      <td>-0.462265</td>\n",
       "    </tr>\n",
       "    <tr>\n",
       "      <th>3</th>\n",
       "      <td>611</td>\n",
       "      <td>-0.400919</td>\n",
       "    </tr>\n",
       "    <tr>\n",
       "      <th>4</th>\n",
       "      <td>7212</td>\n",
       "      <td>-0.705495</td>\n",
       "    </tr>\n",
       "    <tr>\n",
       "      <th>5</th>\n",
       "      <td>10750</td>\n",
       "      <td>-0.483531</td>\n",
       "    </tr>\n",
       "    <tr>\n",
       "      <th>6</th>\n",
       "      <td>1646</td>\n",
       "      <td>-0.709309</td>\n",
       "    </tr>\n",
       "    <tr>\n",
       "      <th>7</th>\n",
       "      <td>6893</td>\n",
       "      <td>-0.653508</td>\n",
       "    </tr>\n",
       "    <tr>\n",
       "      <th>8</th>\n",
       "      <td>4403</td>\n",
       "      <td>-0.736024</td>\n",
       "    </tr>\n",
       "    <tr>\n",
       "      <th>9</th>\n",
       "      <td>1641</td>\n",
       "      <td>-0.709091</td>\n",
       "    </tr>\n",
       "    <tr>\n",
       "      <th>10</th>\n",
       "      <td>6742</td>\n",
       "      <td>-0.530546</td>\n",
       "    </tr>\n",
       "    <tr>\n",
       "      <th>11</th>\n",
       "      <td>13048</td>\n",
       "      <td>-0.678748</td>\n",
       "    </tr>\n",
       "    <tr>\n",
       "      <th>12</th>\n",
       "      <td>3248</td>\n",
       "      <td>-0.698196</td>\n",
       "    </tr>\n",
       "    <tr>\n",
       "      <th>13</th>\n",
       "      <td>13764</td>\n",
       "      <td>-0.501299</td>\n",
       "    </tr>\n",
       "    <tr>\n",
       "      <th>14</th>\n",
       "      <td>80</td>\n",
       "      <td>-0.741432</td>\n",
       "    </tr>\n",
       "    <tr>\n",
       "      <th>15</th>\n",
       "      <td>15558</td>\n",
       "      <td>-0.663109</td>\n",
       "    </tr>\n",
       "    <tr>\n",
       "      <th>16</th>\n",
       "      <td>14943</td>\n",
       "      <td>-0.739211</td>\n",
       "    </tr>\n",
       "    <tr>\n",
       "      <th>17</th>\n",
       "      <td>13637</td>\n",
       "      <td>-0.691762</td>\n",
       "    </tr>\n",
       "    <tr>\n",
       "      <th>18</th>\n",
       "      <td>8933</td>\n",
       "      <td>-0.706545</td>\n",
       "    </tr>\n",
       "    <tr>\n",
       "      <th>19</th>\n",
       "      <td>10047</td>\n",
       "      <td>-0.652022</td>\n",
       "    </tr>\n",
       "  </tbody>\n",
       "</table>\n",
       "</div>"
      ],
      "text/plain": [
       "       id     hform\n",
       "0    8538 -0.603696\n",
       "1    9052 -0.522164\n",
       "2   10503 -0.462265\n",
       "3     611 -0.400919\n",
       "4    7212 -0.705495\n",
       "5   10750 -0.483531\n",
       "6    1646 -0.709309\n",
       "7    6893 -0.653508\n",
       "8    4403 -0.736024\n",
       "9    1641 -0.709091\n",
       "10   6742 -0.530546\n",
       "11  13048 -0.678748\n",
       "12   3248 -0.698196\n",
       "13  13764 -0.501299\n",
       "14     80 -0.741432\n",
       "15  15558 -0.663109\n",
       "16  14943 -0.739211\n",
       "17  13637 -0.691762\n",
       "18   8933 -0.706545\n",
       "19  10047 -0.652022"
      ]
     },
     "execution_count": 23,
     "metadata": {},
     "output_type": "execute_result"
    }
   ],
   "source": [
    "test_prediction_dataframe = pd.DataFrame(data = {'id':test.id,\n",
    "                                                 'hform':Y_test_kaggle})\n",
    "test_prediction_dataframe.head(n=20)"
   ]
  },
  {
   "cell_type": "code",
   "execution_count": 24,
   "metadata": {},
   "outputs": [],
   "source": [
    "test_prediction_dataframe.to_csv(data_dir+'submission_test.csv',index=False)"
   ]
  },
  {
   "cell_type": "markdown",
   "metadata": {},
   "source": [
    "## Installing Dscribe on Windows\n",
    "\n",
    "If you tried to install Dscribe from pip you most likely got an error message about not having Microsoft Visual C++ installed. It might not be the easiest way to get it to work but it is possible to get a working install of Dscribe on Windows by doing the following:\n",
    "\n",
    "- Install Microsoft Visual Studio\n",
    " - Under Windows, there are 3 choices. Only check Desktop development with C++\n",
    " - Under Web & Cloud, there are 7 choices. Only check Python development\n",
    "\n",
    "- Create a new environment in anaconda\n",
    " - Open the Anaconda prompt\n",
    " - conda create -n yourenvname python=3.7 \n",
    " - conda activate yourenvname\n",
    "\n",
    "- Install pip and git in the new environment\n",
    " - conda install -n yourenvname pip git\n",
    " \n",
    "- Install Dscribe directly from Github\n",
    " - pip install git+https://github.com/SINGROUP/dscribe\n",
    " \n",
    "Hopefully, this will make it work.\n",
    "\n",
    "In case you still have problems with Dscribe on Windows (and you want to experiment with SOAP) and you don't have a Mac/Linux friend in your group or maybe even one of the competing groups, then please send me an email (pmely@dtu.dk) and we can figure something out.\n",
    "\n",
    "## Installing Dscribe on M1 Mac\n",
    "M1 Macs needs the Python packages to be compiled for the osx-arm64 architecture. This can couse problems when installing packages from pip. \n",
    "\n",
    "- Create a new environment in anaconda\n",
    " - Open the terminal\n",
    " - conda create -n yourenvname python=3.8\n",
    " - conda activate yourenvname\n",
    "\n",
    "- Install pip and git in the new environment\n",
    " - conda install -n yourenvname pip git\n",
    " \n",
    "- Try to install Dscribe directly from Github\n",
    " - pip install git+https://github.com/SINGROUP/dscribe\n",
    " \n",
    "- You will likely get an error that some of the dependencies packages cannot be installed. Install these packages seperately from conda-forge:\n",
    " - conda install -c conda-forge 'PACKAGE_NAME'\n",
    " \n",
    "Again, if you still have problems with Dscribe on Windows (and you want to experiment with SOAP) and you don't have a Mac/Linux friend in your group or maybe even one of the competing groups, then please send me an email (pmely@dtu.dk) and we can figure something out.\n",
    " \n",
    "## Alternative: Google Colab\n",
    "\n",
    "If all other fails, then you can use Google Colab - either just to create the fingerprints and use \"pickle\" to download them, so you can do the machine learning locally on your own computer. Or you can do the whole project on Colab.\n",
    "\n",
    "To install packages on Google Colab use \"!pip\". E.g. install Dscribe by running the following command in the Colab notebook:\n",
    "- !pip install dscribe\n",
    "\n",
    "You will have to install Dscribe each session and it will take a few minutes.\n"
   ]
  },
  {
   "cell_type": "code",
   "execution_count": null,
   "metadata": {},
   "outputs": [],
   "source": []
  }
 ],
 "metadata": {
  "kernelspec": {
   "display_name": "base",
   "language": "python",
   "name": "python3"
  },
  "language_info": {
   "codemirror_mode": {
    "name": "ipython",
    "version": 3
   },
   "file_extension": ".py",
   "mimetype": "text/x-python",
   "name": "python",
   "nbconvert_exporter": "python",
   "pygments_lexer": "ipython3",
   "version": "3.8.18"
  }
 },
 "nbformat": 4,
 "nbformat_minor": 4
}
