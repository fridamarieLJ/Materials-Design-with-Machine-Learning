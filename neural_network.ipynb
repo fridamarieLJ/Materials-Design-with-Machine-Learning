{
  "cells": [
    {
      "cell_type": "markdown",
      "source": [
        "# Google colab: neural networkk"
      ],
      "metadata": {
        "id": "N8D9k2DkYgTV"
      }
    },
    {
      "cell_type": "code",
      "execution_count": 23,
      "metadata": {
        "colab": {
          "base_uri": "https://localhost:8080/"
        },
        "id": "K_hys9VyPfzl",
        "outputId": "4efa4e13-a90b-4bce-f559-9388ae8b472f"
      },
      "outputs": [
        {
          "output_type": "stream",
          "name": "stdout",
          "text": [
            "Cloning into 'Materials-Design-with-Machine-Learning'...\n",
            "remote: Enumerating objects: 216, done.\u001b[K\n",
            "remote: Counting objects: 100% (68/68), done.\u001b[K\n",
            "remote: Compressing objects: 100% (51/51), done.\u001b[K\n",
            "remote: Total 216 (delta 40), reused 35 (delta 17), pack-reused 148 (from 1)\u001b[K\n",
            "Receiving objects: 100% (216/216), 3.24 MiB | 12.67 MiB/s, done.\n",
            "Resolving deltas: 100% (96/96), done.\n",
            "/content/Materials-Design-with-Machine-Learning/Materials-Design-with-Machine-Learning\n",
            "Albert\t\t neural_network.ipynb  project_dataload.py\t       __pycache__\n",
            "Fingerprints.py  new_notebook.ipynb    project_gaussian.py\t       Sinematrix.py\n",
            "GP.py\t\t PCA_decomposition.py  project_main.ipynb\t       SOAP.py\n",
            "LoadData.py\t project_data\t       project_main_test_albert.ipynb\n"
          ]
        }
      ],
      "source": [
        "# Clone the repository\n",
        "!git clone https://github.com/fridamarieLJ/Materials-Design-with-Machine-Learning.git\n",
        "\n",
        "# Navigate to the repository\n",
        "%cd 'Materials-Design-with-Machine-Learning'\n",
        "\n",
        "# List files in the repository\n",
        "!ls"
      ]
    },
    {
      "cell_type": "code",
      "source": [
        "# Import dependencies\n",
        "!pip install ase\n",
        "!pip install dscribe"
      ],
      "metadata": {
        "colab": {
          "base_uri": "https://localhost:8080/"
        },
        "id": "Jz6Po2JwSbON",
        "outputId": "ad35a0ad-fe4e-4548-c2a8-2db7a216e656"
      },
      "execution_count": 24,
      "outputs": [
        {
          "output_type": "stream",
          "name": "stdout",
          "text": [
            "Requirement already satisfied: ase in /usr/local/lib/python3.11/dist-packages (3.24.0)\n",
            "Requirement already satisfied: numpy>=1.19.5 in /usr/local/lib/python3.11/dist-packages (from ase) (1.26.4)\n",
            "Requirement already satisfied: scipy>=1.6.0 in /usr/local/lib/python3.11/dist-packages (from ase) (1.13.1)\n",
            "Requirement already satisfied: matplotlib>=3.3.4 in /usr/local/lib/python3.11/dist-packages (from ase) (3.10.0)\n",
            "Requirement already satisfied: contourpy>=1.0.1 in /usr/local/lib/python3.11/dist-packages (from matplotlib>=3.3.4->ase) (1.3.1)\n",
            "Requirement already satisfied: cycler>=0.10 in /usr/local/lib/python3.11/dist-packages (from matplotlib>=3.3.4->ase) (0.12.1)\n",
            "Requirement already satisfied: fonttools>=4.22.0 in /usr/local/lib/python3.11/dist-packages (from matplotlib>=3.3.4->ase) (4.55.3)\n",
            "Requirement already satisfied: kiwisolver>=1.3.1 in /usr/local/lib/python3.11/dist-packages (from matplotlib>=3.3.4->ase) (1.4.8)\n",
            "Requirement already satisfied: packaging>=20.0 in /usr/local/lib/python3.11/dist-packages (from matplotlib>=3.3.4->ase) (24.2)\n",
            "Requirement already satisfied: pillow>=8 in /usr/local/lib/python3.11/dist-packages (from matplotlib>=3.3.4->ase) (11.1.0)\n",
            "Requirement already satisfied: pyparsing>=2.3.1 in /usr/local/lib/python3.11/dist-packages (from matplotlib>=3.3.4->ase) (3.2.1)\n",
            "Requirement already satisfied: python-dateutil>=2.7 in /usr/local/lib/python3.11/dist-packages (from matplotlib>=3.3.4->ase) (2.8.2)\n",
            "Requirement already satisfied: six>=1.5 in /usr/local/lib/python3.11/dist-packages (from python-dateutil>=2.7->matplotlib>=3.3.4->ase) (1.17.0)\n",
            "Requirement already satisfied: dscribe in /usr/local/lib/python3.11/dist-packages (2.1.1)\n",
            "Requirement already satisfied: numpy in /usr/local/lib/python3.11/dist-packages (from dscribe) (1.26.4)\n",
            "Requirement already satisfied: scipy in /usr/local/lib/python3.11/dist-packages (from dscribe) (1.13.1)\n",
            "Requirement already satisfied: ase>=3.19.0 in /usr/local/lib/python3.11/dist-packages (from dscribe) (3.24.0)\n",
            "Requirement already satisfied: scikit-learn in /usr/local/lib/python3.11/dist-packages (from dscribe) (1.6.0)\n",
            "Requirement already satisfied: joblib>=1.0.0 in /usr/local/lib/python3.11/dist-packages (from dscribe) (1.4.2)\n",
            "Requirement already satisfied: sparse in /usr/local/lib/python3.11/dist-packages (from dscribe) (0.15.5)\n",
            "Requirement already satisfied: matplotlib>=3.3.4 in /usr/local/lib/python3.11/dist-packages (from ase>=3.19.0->dscribe) (3.10.0)\n",
            "Requirement already satisfied: threadpoolctl>=3.1.0 in /usr/local/lib/python3.11/dist-packages (from scikit-learn->dscribe) (3.5.0)\n",
            "Requirement already satisfied: numba>=0.49 in /usr/local/lib/python3.11/dist-packages (from sparse->dscribe) (0.60.0)\n",
            "Requirement already satisfied: contourpy>=1.0.1 in /usr/local/lib/python3.11/dist-packages (from matplotlib>=3.3.4->ase>=3.19.0->dscribe) (1.3.1)\n",
            "Requirement already satisfied: cycler>=0.10 in /usr/local/lib/python3.11/dist-packages (from matplotlib>=3.3.4->ase>=3.19.0->dscribe) (0.12.1)\n",
            "Requirement already satisfied: fonttools>=4.22.0 in /usr/local/lib/python3.11/dist-packages (from matplotlib>=3.3.4->ase>=3.19.0->dscribe) (4.55.3)\n",
            "Requirement already satisfied: kiwisolver>=1.3.1 in /usr/local/lib/python3.11/dist-packages (from matplotlib>=3.3.4->ase>=3.19.0->dscribe) (1.4.8)\n",
            "Requirement already satisfied: packaging>=20.0 in /usr/local/lib/python3.11/dist-packages (from matplotlib>=3.3.4->ase>=3.19.0->dscribe) (24.2)\n",
            "Requirement already satisfied: pillow>=8 in /usr/local/lib/python3.11/dist-packages (from matplotlib>=3.3.4->ase>=3.19.0->dscribe) (11.1.0)\n",
            "Requirement already satisfied: pyparsing>=2.3.1 in /usr/local/lib/python3.11/dist-packages (from matplotlib>=3.3.4->ase>=3.19.0->dscribe) (3.2.1)\n",
            "Requirement already satisfied: python-dateutil>=2.7 in /usr/local/lib/python3.11/dist-packages (from matplotlib>=3.3.4->ase>=3.19.0->dscribe) (2.8.2)\n",
            "Requirement already satisfied: llvmlite<0.44,>=0.43.0dev0 in /usr/local/lib/python3.11/dist-packages (from numba>=0.49->sparse->dscribe) (0.43.0)\n",
            "Requirement already satisfied: six>=1.5 in /usr/local/lib/python3.11/dist-packages (from python-dateutil>=2.7->matplotlib>=3.3.4->ase>=3.19.0->dscribe) (1.17.0)\n"
          ]
        }
      ]
    },
    {
      "cell_type": "code",
      "source": [
        "# import self made functions\n",
        "from project_dataload import data_load, check_data, summarize_1\n",
        "from project_gaussian import *\n",
        "from Fingerprints import Sinemats, Coulombmatrices, Ewaldsummatrices\n",
        "from PCA_decomposition import *\n",
        "from GP import GP\n"
      ],
      "metadata": {
        "id": "NvRdNmP4QVLl"
      },
      "execution_count": 25,
      "outputs": []
    },
    {
      "cell_type": "code",
      "source": [
        "# import ml relevant libraries\n",
        "import torch\n",
        "from torch.utils.data import DataLoader, TensorDataset\n",
        "import torch.nn as nn\n",
        "import matplotlib.pyplot as plt"
      ],
      "metadata": {
        "id": "rFxDHwPngksK"
      },
      "execution_count": 83,
      "outputs": []
    },
    {
      "cell_type": "code",
      "source": [
        "###Data load and check\n",
        "data_dir=\"./project_data/\"\n",
        "train, test = data_load(data_dir)\n",
        "\n",
        "print('Check train data')\n",
        "check_data(train)\n",
        "print('Check test data')\n",
        "check_data(test)\n",
        "summary = summarize_1(train, test)\n",
        "print('Max number of atoms',summary['max_number_of_atoms'])"
      ],
      "metadata": {
        "colab": {
          "base_uri": "https://localhost:8080/"
        },
        "id": "VScsbxZGQgOs",
        "outputId": "c5b82c8f-eb47-4ae9-ddbe-fa33e33ae3bc"
      },
      "execution_count": 71,
      "outputs": [
        {
          "output_type": "stream",
          "name": "stdout",
          "text": [
            "Check train data\n",
            "Train data shape: (8000, 4)\n",
            "     id        formula                                              atoms  \\\n",
            "0  5154         Zr2BO2  (Atom('Zr', [1.6878604657, 0.892285133, 8.1345...   \n",
            "1   984          Ni2S6  (Atom('Ni', [1.1571403137, 0.934725185, 12.234...   \n",
            "2  1634  Cd4K2Cl6O6Te2  (Atom('Cd', [2.7840261751, 5.6922402759, 26.71...   \n",
            "3  1872      Hf4H2N3O2  (Atom('Hf', [0.0, 1.8677827772, 12.2421466347]...   \n",
            "4  2977         Sc2Te2  (Atom('Te', [0.0003850118, 0.0002469812, 7.461...   \n",
            "\n",
            "      hform  \n",
            "0 -2.037877  \n",
            "1 -0.091020  \n",
            "2 -1.109751  \n",
            "3 -1.609142  \n",
            "4 -0.854593  \n",
            "Check test data\n",
            "Train data shape: (4000, 3)\n",
            "      id     formula                                              atoms\n",
            "0   8538    HfZrSTe2  (Atom('S', [-1.0327079693, 4.2080182974, 22.81...\n",
            "1   9052    Nb2P2Te6  (Atom('Nb', [0.3517632032, -0.2042419274, 9.20...\n",
            "2  10503  Au2InI2Se2  (Atom('Se', [0.2238411856, 0.8131388722, 26.83...\n",
            "3    611   AuTlO6Sb2  (Atom('Au', [0.0002076097, -0.0001198635, 16.6...\n",
            "4   7212       NbBr2  (Atom('Nb', [6.208919093e-19, -1.371643362e-17...\n",
            "Max number of atoms 20\n"
          ]
        }
      ]
    },
    {
      "cell_type": "code",
      "source": [
        "### Implement fingerprint\n",
        "max_num_atoms = summary['max_number_of_atoms']\n",
        "cmats = Coulombmatrices(train, max_num_atoms)\n",
        "y_vals = train['hform']\n",
        "print('Shape of cmats', cmats.shape)"
      ],
      "metadata": {
        "id": "BP6f-k4Ral37",
        "outputId": "97ed9c7d-7d31-45a8-e8b4-a1938e3a956e",
        "colab": {
          "base_uri": "https://localhost:8080/"
        }
      },
      "execution_count": 72,
      "outputs": [
        {
          "output_type": "stream",
          "name": "stdout",
          "text": [
            "0\n",
            "1000\n",
            "2000\n",
            "3000\n",
            "4000\n",
            "5000\n",
            "6000\n",
            "7000\n",
            "Shape of cmats (8000, 400)\n"
          ]
        }
      ]
    },
    {
      "cell_type": "code",
      "source": [
        "#Splitting data (the part with targets available, i.e. train) in train and test\n",
        "\n",
        "# Set target and feature vector\n",
        "X = pd.DataFrame(data = cmats, index=train.id)\n",
        "y = pd.DataFrame(train['hform'].values, index = train.id)\n",
        "print('X: {}'.format(X.shape))\n",
        "print('y: {}'.format(y.shape))\n",
        "# Split training data into a training set and a validation set\n",
        "X_train, X_test, y_train, y_test = train_test_split(X, y, test_size=0.2, random_state=251)\n",
        "y_test_values = y_test.values  # Extract values as a NumPy array\n",
        "y_train_values = y_train.values  # Extract values as a NumPy array\n",
        "print('X_train: {}'.format(X_train.shape))\n",
        "print('X_test: {}'.format(X_test.shape))\n",
        "print('y_train: {}'.format(y_train.shape))\n",
        "print('y_test: {}'.format(y_test.shape))"
      ],
      "metadata": {
        "id": "egGtUtHZbPM7",
        "outputId": "9f3bb713-921a-4732-a8c5-4ee61cdbbaca",
        "colab": {
          "base_uri": "https://localhost:8080/"
        }
      },
      "execution_count": 73,
      "outputs": [
        {
          "output_type": "stream",
          "name": "stdout",
          "text": [
            "X: (8000, 400)\n",
            "y: (8000, 1)\n",
            "X_train: (6400, 400)\n",
            "X_test: (1600, 400)\n",
            "y_train: (6400, 1)\n",
            "y_test: (1600, 1)\n"
          ]
        }
      ]
    },
    {
      "cell_type": "code",
      "source": [
        "# Visualise data\n",
        "plt.figure(figsize = (8, 4))\n",
        "plt.hist(y_train, bins=30, alpha=0.7, density=True, label='Train set')\n",
        "plt.hist(y_test, bins=30, alpha=0.7, density=True, label='Test set')\n",
        "\n",
        "plt.grid()\n",
        "plt.title(\"Normalized histogram of test and train sets\")\n",
        "plt.xlabel(\"Heat of formation, eV/atom\")\n",
        "plt.legend()\n",
        "plt.show()"
      ],
      "metadata": {
        "id": "n2P2CTvjbwA3",
        "outputId": "0d57f4bc-a64c-4623-f90c-e356c7baf448",
        "colab": {
          "base_uri": "https://localhost:8080/",
          "height": 410
        }
      },
      "execution_count": 125,
      "outputs": [
        {
          "output_type": "display_data",
          "data": {
            "text/plain": [
              "<Figure size 800x400 with 1 Axes>"
            ],
            "image/png": "[encoded data removed]"
          },
          "metadata": {}
        }
      ]
    },
    {
      "cell_type": "code",
      "source": [
        "# PC Decomposition\n",
        "n_PC = 40\n",
        "X_train_pca, X_test_pca = PCA_decomposition(X_train, X_test, n_PC)\n",
        "print('Shape X_train_pca', X_train_pca.shape)\n",
        "print('Shape X_test_pca', X_test_pca.shape)\n"
      ],
      "metadata": {
        "id": "pBqLUwHPb7A9",
        "outputId": "836975ad-c62d-4279-e0aa-c677ebca443c",
        "colab": {
          "base_uri": "https://localhost:8080/"
        }
      },
      "execution_count": 126,
      "outputs": [
        {
          "output_type": "stream",
          "name": "stdout",
          "text": [
            "With 40 PCA components 91.9809% of the variance is explained\n",
            "X_train: (6400, 400)\n",
            "X_test: (1600, 400)\n",
            "Shape X_train_pca (6400, 40)\n",
            "Shape X_test_pca (1600, 40)\n"
          ]
        }
      ]
    },
    {
      "cell_type": "markdown",
      "source": [
        "### Below is code from chat gpt"
      ],
      "metadata": {
        "id": "yfbLsvi0g2oZ"
      }
    },
    {
      "cell_type": "code",
      "source": [
        "# Convert numpy arrays to PyTorch tensors\n",
        "X_train_tensor = torch.tensor(X_train_pca, dtype=torch.float32)\n",
        "y_train_tensor = torch.tensor(y_train_values, dtype=torch.float32)\n",
        "X_test_tensor = torch.tensor(X_test_pca, dtype=torch.float32)\n",
        "y_test_tensor = torch.tensor(y_test_values, dtype=torch.float32)\n",
        "\n",
        "# Combine features and targets into datasets\n",
        "train_dataset = TensorDataset(X_train_tensor, y_train_tensor)\n",
        "test_dataset = TensorDataset(X_test_tensor, y_test_tensor)\n",
        "\n",
        "# Create DataLoaders\n",
        "batch_size = 64\n",
        "train_loader = DataLoader(train_dataset, batch_size=batch_size, shuffle=True)\n",
        "test_loader = DataLoader(test_dataset, batch_size=batch_size, shuffle=False)\n"
      ],
      "metadata": {
        "id": "U_VQMGHKcEID"
      },
      "execution_count": 132,
      "outputs": []
    },
    {
      "cell_type": "code",
      "source": [
        "class SimpleNN(nn.Module):\n",
        "    def __init__(self, input_dim, hidden_dim, output_dim):\n",
        "        super(SimpleNN, self).__init__()\n",
        "        self.net = nn.Sequential(\n",
        "            nn.Linear(input_dim, hidden_dim),\n",
        "            nn.ReLU(),\n",
        "            nn.Linear(hidden_dim, hidden_dim),\n",
        "            nn.ReLU(),\n",
        "            nn.Linear(hidden_dim, output_dim)\n",
        "        )\n",
        "\n",
        "    def forward(self, x):\n",
        "        return self.net(x)\n",
        "\n",
        "# Instantiate the model\n",
        "input_dim = n_PC  # Number of PCA components\n",
        "hidden_dim = 124  # Size of hidden layers\n",
        "output_dim = 1  # Single output for regression\n",
        "model = SimpleNN(input_dim, hidden_dim, output_dim)\n"
      ],
      "metadata": {
        "id": "kTtUR0ishshD"
      },
      "execution_count": 133,
      "outputs": []
    },
    {
      "cell_type": "code",
      "source": [
        "# Loss function\n",
        "criterion = nn.MSELoss()\n",
        "\n",
        "# Optimizer\n",
        "learning_rate = 0.001\n",
        "optimizer = torch.optim.Adam(model.parameters(), lr=learning_rate)\n"
      ],
      "metadata": {
        "id": "b02Sk4PFifT1"
      },
      "execution_count": 134,
      "outputs": []
    },
    {
      "cell_type": "code",
      "source": [
        "# Define training and testing functions\n",
        "def train_model(model, train_loader, criterion, optimizer, num_epochs=10):\n",
        "    model.train()  # Set model to training mode\n",
        "    for epoch in range(num_epochs):\n",
        "        running_loss = 0.0\n",
        "        for X_batch, y_batch in train_loader:\n",
        "            optimizer.zero_grad()  # Clear gradients\n",
        "            y_pred = model(X_batch).squeeze()  # Forward pass\n",
        "            loss = criterion(y_pred, y_batch)  # Compute loss\n",
        "            loss.backward()  # Backpropagation\n",
        "            optimizer.step()  # Update weights\n",
        "            running_loss += loss.item()\n",
        "        print(f\"Epoch {epoch+1}/{num_epochs}, Loss: {running_loss/len(train_loader):.4f}\")\n",
        "\n",
        "\n",
        "def test_model(model, test_loader, criterion):\n",
        "    model.eval()  # Set model to evaluation mode\n",
        "    total_loss = 0.0\n",
        "    with torch.no_grad():  # Disable gradient computation\n",
        "        for X_batch, y_batch in test_loader:\n",
        "            y_pred = model(X_batch).squeeze()  # Forward pass\n",
        "            loss = criterion(y_pred, y_batch)  # Compute loss\n",
        "            total_loss += loss.item()\n",
        "    MSE = total_loss/len(test_loader)\n",
        "    print(f\"Test Loss: {MSE:.4f}\")\n",
        "    print(f\"RMSE Loss: {np.sqrt(MSE):.4f}\")"
      ],
      "metadata": {
        "id": "VoHrPRgniq6Y"
      },
      "execution_count": 135,
      "outputs": []
    },
    {
      "cell_type": "code",
      "source": [
        "#Train the model\n",
        "num_epochs = 15\n",
        "train_model(model, train_loader, criterion, optimizer, num_epochs)\n"
      ],
      "metadata": {
        "id": "udLHiMcJjETF",
        "outputId": "8febf197-3487-4282-ed43-1e3c343be1dc",
        "colab": {
          "base_uri": "https://localhost:8080/"
        }
      },
      "execution_count": 136,
      "outputs": [
        {
          "output_type": "stream",
          "name": "stdout",
          "text": [
            "Epoch 1/15, Loss: 0.4826\n",
            "Epoch 2/15, Loss: 0.4608\n",
            "Epoch 3/15, Loss: 0.4607\n",
            "Epoch 4/15, Loss: 0.4533\n",
            "Epoch 5/15, Loss: 0.4501\n",
            "Epoch 6/15, Loss: 0.4469\n",
            "Epoch 7/15, Loss: 0.4457\n",
            "Epoch 8/15, Loss: 0.4464\n",
            "Epoch 9/15, Loss: 0.4498\n",
            "Epoch 10/15, Loss: 0.4469\n",
            "Epoch 11/15, Loss: 0.4464\n",
            "Epoch 12/15, Loss: 0.4463\n",
            "Epoch 13/15, Loss: 0.4457\n",
            "Epoch 14/15, Loss: 0.4448\n",
            "Epoch 15/15, Loss: 0.4462\n"
          ]
        }
      ]
    },
    {
      "cell_type": "code",
      "source": [
        "#Evaluate the model\n",
        "test_model(model, test_loader, criterion)\n"
      ],
      "metadata": {
        "id": "6M_k9E4Ajp_T",
        "outputId": "c0238f34-885f-4b7f-f301-34a60e8e4e56",
        "colab": {
          "base_uri": "https://localhost:8080/"
        }
      },
      "execution_count": 137,
      "outputs": [
        {
          "output_type": "stream",
          "name": "stdout",
          "text": [
            "Test Loss: 0.4947\n",
            "RMSE Loss: 0.7034\n"
          ]
        }
      ]
    },
    {
      "cell_type": "code",
      "source": [
        "#Make predictions\n",
        "\n",
        "model.eval()  # Set model to evaluation mode\n",
        "with torch.no_grad():\n",
        "    predictions = model(X_test_tensor).squeeze().numpy()\n"
      ],
      "metadata": {
        "id": "5xMUPV3EoyKf"
      },
      "execution_count": 138,
      "outputs": []
    },
    {
      "cell_type": "code",
      "source": [
        "#Visualise\n",
        "\n",
        "\n",
        "plt.scatter(y_test, predictions, s=1)\n",
        "xg=[-3.5, 1.5]\n",
        "plt.plot(xg, xg, color='red', linestyle='--')  # Ideal prediction line\n",
        "plt.xlabel(\"True Values\")\n",
        "plt.ylabel(\"Predicted Values\")\n",
        "plt.title(\"True vs. Predicted Energies\")\n",
        "plt.grid()\n",
        "plt.show()\n"
      ],
      "metadata": {
        "id": "FVY6-3MRo0qm",
        "outputId": "1d916756-4197-42ce-e76d-366ac5a0a612",
        "colab": {
          "base_uri": "https://localhost:8080/",
          "height": 472
        }
      },
      "execution_count": 139,
      "outputs": [
        {
          "output_type": "display_data",
          "data": {
            "text/plain": [
              "<Figure size 640x480 with 1 Axes>"
            ],
            "image/png": "[encoded data removed]"
          },
          "metadata": {}
        }
      ]
    }
  ],
  "metadata": {
    "language_info": {
      "name": "python"
    },
    "colab": {
      "provenance": []
    },
    "kernelspec": {
      "name": "python3",
      "display_name": "Python 3"
    }
  },
  "nbformat": 4,
  "nbformat_minor": 0
}