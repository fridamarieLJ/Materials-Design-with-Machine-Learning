{
 "cells": [
  {
   "cell_type": "markdown",
   "metadata": {},
   "source": [
    "# Main file for running our model"
   ]
  },
  {
   "cell_type": "code",
   "execution_count": 6,
   "metadata": {},
   "outputs": [],
   "source": [
    "###Libraries (not in function files)\n",
    "from sklearn.model_selection import train_test_split"
   ]
  },
  {
   "cell_type": "code",
   "execution_count": 14,
   "metadata": {},
   "outputs": [],
   "source": [
    "###Own functions\n",
    "from project_dataload import *\n",
    "from project_gaussian import *\n",
    "from Fingerprints import *\n",
    "from PCA_decomposition import *\n",
    "from GP import GP\n"
   ]
  },
  {
   "cell_type": "code",
   "execution_count": 8,
   "metadata": {},
   "outputs": [
    {
     "name": "stdout",
     "output_type": "stream",
     "text": [
      "Check train data\n",
      "Train data shape: (8000, 4)\n",
      "     id        formula                                              atoms  \\\n",
      "0  5154         Zr2BO2  (Atom('Zr', [np.float64(1.6878604657), np.floa...   \n",
      "1   984          Ni2S6  (Atom('Ni', [np.float64(1.1571403137), np.floa...   \n",
      "2  1634  Cd4K2Cl6O6Te2  (Atom('Cd', [np.float64(2.7840261751), np.floa...   \n",
      "3  1872      Hf4H2N3O2  (Atom('Hf', [np.float64(0.0), np.float64(1.867...   \n",
      "4  2977         Sc2Te2  (Atom('Te', [np.float64(0.0003850118), np.floa...   \n",
      "\n",
      "      hform  \n",
      "0 -2.037877  \n",
      "1 -0.091020  \n",
      "2 -1.109751  \n",
      "3 -1.609142  \n",
      "4 -0.854593  \n",
      "Check test data\n",
      "Train data shape: (4000, 3)\n",
      "      id     formula                                              atoms\n",
      "0   8538    HfZrSTe2  (Atom('S', [np.float64(-1.0327079693), np.floa...\n",
      "1   9052    Nb2P2Te6  (Atom('Nb', [np.float64(0.3517632032), np.floa...\n",
      "2  10503  Au2InI2Se2  (Atom('Se', [np.float64(0.2238411856), np.floa...\n",
      "3    611   AuTlO6Sb2  (Atom('Au', [np.float64(0.0002076097), np.floa...\n",
      "4   7212       NbBr2  (Atom('Nb', [np.float64(6.208919093e-19), np.f...\n",
      "Max number of atoms 20\n"
     ]
    }
   ],
   "source": [
    "###Data load and check\n",
    "\n",
    "data_dir=\"./project_data/\"\n",
    "train, test = data_load(data_dir)\n",
    "\n",
    "print('Check train data')\n",
    "check_data(train)\n",
    "print('Check test data')\n",
    "check_data(test)\n",
    "summary = summarize_1(train, test)\n",
    "print('Max number of atoms',summary['max_number_of_atoms'])\n"
   ]
  },
  {
   "cell_type": "code",
   "execution_count": 9,
   "metadata": {},
   "outputs": [
    {
     "name": "stdout",
     "output_type": "stream",
     "text": [
      "0\n",
      "1000\n",
      "2000\n",
      "3000\n",
      "4000\n",
      "5000\n",
      "6000\n",
      "7000\n",
      "Shape of cmats (8000, 400)\n"
     ]
    }
   ],
   "source": [
    "### Implement fingerprint\n",
    "max_num_atoms = summary['max_number_of_atoms']\n",
    "cmats = Coulombmatrices(train, max_num_atoms)\n",
    "y_vals = train['hform']\n",
    "print('Shape of cmats', cmats.shape)"
   ]
  },
  {
   "cell_type": "code",
   "execution_count": 10,
   "metadata": {},
   "outputs": [
    {
     "name": "stdout",
     "output_type": "stream",
     "text": [
      "X: (8000, 400)\n",
      "y: (8000, 1)\n"
     ]
    }
   ],
   "source": [
    "# Set target and feature vector \n",
    "X = pd.DataFrame(data = cmats, index=train.id)\n",
    "y = pd.DataFrame(train['hform'].values, index = train.id)\n",
    "print('X: {}'.format(X.shape))\n",
    "print('y: {}'.format(y.shape))"
   ]
  },
  {
   "cell_type": "code",
   "execution_count": 11,
   "metadata": {},
   "outputs": [],
   "source": [
    "# Split training data into a training set and a validation set\n",
    "X_train, X_test, y_train, y_test = train_test_split(X, y, test_size=0.2, random_state=251)\n",
    "y_test_values = y_test.values  # Extract values as a NumPy array\n",
    "y_train_values = y_train.values  # Extract values as a NumPy array"
   ]
  },
  {
   "cell_type": "code",
   "execution_count": 12,
   "metadata": {},
   "outputs": [
    {
     "name": "stdout",
     "output_type": "stream",
     "text": [
      "Shape of split data:  (6400, 400) (1600, 400) (6400, 1) (1600, 1)\n"
     ]
    },
    {
     "data": {
      "image/png": "[encoded data removed]",
      "text/plain": [
       "<Figure size 800x400 with 1 Axes>"
      ]
     },
     "metadata": {},
     "output_type": "display_data"
    }
   ],
   "source": [
    "### Split data\n",
    "print('Shape of split data: ',X_train.shape, X_test.shape, y_train.shape, y_test.shape)\n",
    "\n",
    "plt.figure(figsize = (8, 4))\n",
    "plt.hist(y_train, bins=30, alpha=0.7, density=True, label='Train set')\n",
    "plt.hist(y_test, bins=30, alpha=0.7, density=True, label='Test set')\n",
    "\n",
    "plt.grid()\n",
    "plt.title(\"Normalized histogram of test and train sets\")\n",
    "plt.xlabel(\"Heat of formation, eV/atom\")\n",
    "plt.legend()\n",
    "plt.show()\n"
   ]
  },
  {
   "cell_type": "code",
   "execution_count": 13,
   "metadata": {},
   "outputs": [],
   "source": [
    "# PC Decomposition\n",
    "\n",
    "n_PC = 135\n",
    "\n",
    "X_train_pca, X_test_pca = PCA_decomposition(X_train, X_test, n_PC)"
   ]
  },
  {
   "cell_type": "code",
   "execution_count": 15,
   "metadata": {},
   "outputs": [],
   "source": [
    "# Gaussian process\n",
    "\n",
    "simpleGP = GP(X_train_pca, y_train_values, sigma = 0.003)"
   ]
  },
  {
   "cell_type": "code",
   "execution_count": 17,
   "metadata": {},
   "outputs": [],
   "source": [
    "from sklearn.metrics import mean_squared_error as mse\n",
    "from sklearn.metrics import root_mean_squared_error as rmse"
   ]
  },
  {
   "cell_type": "code",
   "execution_count": 18,
   "metadata": {},
   "outputs": [
    {
     "name": "stdout",
     "output_type": "stream",
     "text": [
      "With l = 0.04 RMSE = 0.6784954543805569\n"
     ]
    }
   ],
   "source": [
    "k = 1\n",
    "l=0.04\n",
    "simpleGP.train_GP(l, k)\n",
    "predictions = np.array([simpleGP.predict(fingerprint) for fingerprint in X_test_pca])\n",
    "print(f\"With l = {l} RMSE = {rmse(y_test_values, predictions)}\")\n"
   ]
  },
  {
   "cell_type": "code",
   "execution_count": 19,
   "metadata": {},
   "outputs": [
    {
     "data": {
      "text/plain": [
       "<matplotlib.collections.PathCollection at 0x150bb8f4a90>"
      ]
     },
     "execution_count": 19,
     "metadata": {},
     "output_type": "execute_result"
    },
    {
     "data": {
      "image/png": "[encoded data removed]",
      "text/plain": [
       "<Figure size 640x480 with 1 Axes>"
      ]
     },
     "metadata": {},
     "output_type": "display_data"
    }
   ],
   "source": [
    "plt.figure()\n",
    "plt.scatter(y_test_values, predictions, s = 1)"
   ]
  }
 ],
 "metadata": {
  "kernelspec": {
   "display_name": "MLDM",
   "language": "python",
   "name": "python3"
  },
  "language_info": {
   "codemirror_mode": {
    "name": "ipython",
    "version": 3
   },
   "file_extension": ".py",
   "mimetype": "text/x-python",
   "name": "python",
   "nbconvert_exporter": "python",
   "pygments_lexer": "ipython3",
   "version": "3.11.9"
  }
 },
 "nbformat": 4,
 "nbformat_minor": 2
}
