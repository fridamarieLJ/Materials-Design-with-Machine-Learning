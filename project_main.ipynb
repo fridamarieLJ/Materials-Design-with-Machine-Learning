{
 "cells": [
  {
   "cell_type": "markdown",
   "metadata": {},
   "source": [
    "# Main file for running our model"
   ]
  },
  {
   "cell_type": "code",
   "execution_count": 1,
   "metadata": {},
   "outputs": [],
   "source": [
    "###Libraries (not in function files)"
   ]
  },
  {
   "cell_type": "code",
   "execution_count": 1,
   "metadata": {},
   "outputs": [],
   "source": [
    "###Own functions\n",
    "from project_dataload import *\n",
    "from project_gaussian import *\n",
    "from Fingerprints import *\n",
    "from PCA_decomposition import *"
   ]
  },
  {
   "cell_type": "code",
   "execution_count": 2,
   "metadata": {},
   "outputs": [
    {
     "name": "stdout",
     "output_type": "stream",
     "text": [
      "Check train data\n",
      "Train data shape: (8000, 4)\n",
      "     id        formula                                              atoms  \\\n",
      "0  5154         Zr2BO2  (Atom('Zr', [1.6878604657, 0.892285133, 8.1345...   \n",
      "1   984          Ni2S6  (Atom('Ni', [1.1571403137, 0.934725185, 12.234...   \n",
      "2  1634  Cd4K2Cl6O6Te2  (Atom('Cd', [2.7840261751, 5.6922402759, 26.71...   \n",
      "3  1872      Hf4H2N3O2  (Atom('Hf', [0.0, 1.8677827772, 12.2421466347]...   \n",
      "4  2977         Sc2Te2  (Atom('Te', [0.0003850118, 0.0002469812, 7.461...   \n",
      "\n",
      "      hform  \n",
      "0 -2.037877  \n",
      "1 -0.091020  \n",
      "2 -1.109751  \n",
      "3 -1.609142  \n",
      "4 -0.854593  \n",
      "Check test data\n",
      "Train data shape: (4000, 3)\n",
      "      id     formula                                              atoms\n",
      "0   8538    HfZrSTe2  (Atom('S', [-1.0327079693, 4.2080182974, 22.81...\n",
      "1   9052    Nb2P2Te6  (Atom('Nb', [0.3517632032, -0.2042419274, 9.20...\n",
      "2  10503  Au2InI2Se2  (Atom('Se', [0.2238411856, 0.8131388722, 26.83...\n",
      "3    611   AuTlO6Sb2  (Atom('Au', [0.0002076097, -0.0001198635, 16.6...\n",
      "4   7212       NbBr2  (Atom('Nb', [6.208919093e-19, -1.371643362e-17...\n",
      "Max number of atoms 20\n"
     ]
    }
   ],
   "source": [
    "###Data load and check\n",
    "\n",
    "data_dir=\"./project_data/\"\n",
    "train, test = data_load(data_dir)\n",
    "\n",
    "print('Check train data')\n",
    "check_data(train)\n",
    "print('Check test data')\n",
    "check_data(test)\n",
    "summary = summarize_1(train, test)\n",
    "print('Max number of atoms',summary['max_number_of_atoms'])\n"
   ]
  },
  {
   "cell_type": "code",
   "execution_count": 7,
   "metadata": {},
   "outputs": [
    {
     "name": "stdout",
     "output_type": "stream",
     "text": [
      "0\n",
      "1000\n",
      "2000\n",
      "3000\n",
      "4000\n",
      "5000\n",
      "6000\n",
      "7000\n",
      "Shape of cmats (8000, 400)\n"
     ]
    }
   ],
   "source": [
    "### Implement fingerprint\n",
    "max_num_atoms = summary['max_number_of_atoms']\n",
    "cmats = Coulombmatrices(train, max_num_atoms)\n",
    "y_vals = train['hform']\n",
    "print('Shape of cmats', cmats.shape)"
   ]
  },
  {
   "cell_type": "code",
   "execution_count": 16,
   "metadata": {},
   "outputs": [
    {
     "name": "stdout",
     "output_type": "stream",
     "text": [
      "Shape of split data:  (6400, 400) (1600, 400) (6400,) (1600,)\n"
     ]
    },
    {
     "data": {
      "image/png": "[encoded data removed]",
      "text/plain": [
       "<Figure size 800x400 with 1 Axes>"
      ]
     },
     "metadata": {},
     "output_type": "display_data"
    }
   ],
   "source": [
    "### Split data\n",
    "from sklearn.model_selection import train_test_split\n",
    "\n",
    "X_train,X_test,y_train,y_test = train_test_split(cmats,y_vals,test_size=0.2,random_state=251)\n",
    "\n",
    "print('Shape of split data: ',X_train.shape, X_test.shape, y_train.shape, y_test.shape)\n",
    "\n",
    "plt.figure(figsize = (8, 4))\n",
    "plt.hist(y_train, bins=30, alpha=0.7, density=True, label='Train set')\n",
    "plt.hist(y_test, bins=30, alpha=0.7, density=True, label='Test set')\n",
    "\n",
    "plt.grid()\n",
    "plt.title(\"Normalized histogram of test and train sets\")\n",
    "plt.xlabel(\"Heat of formation, eV/atom\")\n",
    "plt.legend()\n",
    "plt.show()\n"
   ]
  },
  {
   "cell_type": "code",
   "execution_count": 15,
   "metadata": {},
   "outputs": [
    {
     "name": "stdout",
     "output_type": "stream",
     "text": [
      "Shape of X_train_pca (6400, 130)\n"
     ]
    }
   ],
   "source": [
    "### PCA\n",
    "\n",
    "# Number of PC\n",
    "n_PC = 130\n",
    "# Standardize the training set\n",
    "scaler = StandardScaler()\n",
    "X_train_scaled = scaler.fit_transform(X_train)\n",
    "\n",
    "# Apply PCA to the training set\n",
    "pca = PCA(n_components=n_PC)\n",
    "X_train_pca = pca.fit_transform(X_train_scaled)\n",
    "\n",
    "print('Shape of X_train_pca', X_train_pca.shape)"
   ]
  }
 ],
 "metadata": {
  "kernelspec": {
   "display_name": "base",
   "language": "python",
   "name": "python3"
  },
  "language_info": {
   "codemirror_mode": {
    "name": "ipython",
    "version": 3
   },
   "file_extension": ".py",
   "mimetype": "text/x-python",
   "name": "python",
   "nbconvert_exporter": "python",
   "pygments_lexer": "ipython3",
   "version": "3.8.18"
  }
 },
 "nbformat": 4,
 "nbformat_minor": 2
}
