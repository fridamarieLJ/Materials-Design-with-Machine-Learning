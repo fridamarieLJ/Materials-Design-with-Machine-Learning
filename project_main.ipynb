{
 "cells": [
  {
   "cell_type": "markdown",
   "metadata": {},
   "source": [
    "# Main file for running our model"
   ]
  },
  {
   "cell_type": "code",
   "execution_count": 25,
   "metadata": {},
   "outputs": [],
   "source": [
    "###Libraries (not in function files)\n",
    "from sklearn.model_selection import train_test_split\n",
    "from sklearn.metrics import mean_squared_error as mse\n",
    "from sklearn.metrics import root_mean_squared_error as rmse"
   ]
  },
  {
   "cell_type": "code",
   "execution_count": 1,
   "metadata": {},
   "outputs": [],
   "source": [
    "###Own functions\n",
    "from project_dataload import data_load, check_data, summarize_1\n",
    "from project_gaussian import *\n",
    "from Fingerprints import Sinemats, Coulombmatrices, Ewaldsummatrices\n",
    "from PCA_decomposition import *\n",
    "from GP import GP\n"
   ]
  },
  {
   "cell_type": "code",
   "execution_count": null,
   "metadata": {},
   "outputs": [],
   "source": [
    "###Data load and check\n",
    "\n",
    "data_dir=\"./project_data/\"\n",
    "train, test = data_load(data_dir)\n",
    "\n",
    "print('Check train data')\n",
    "check_data(train)\n",
    "print('Check test data')\n",
    "check_data(test)\n",
    "summary = summarize_1(train, test)\n",
    "print('Max number of atoms',summary['max_number_of_atoms'])\n"
   ]
  },
  {
   "cell_type": "code",
   "execution_count": null,
   "metadata": {},
   "outputs": [],
   "source": [
    "### Implement fingerprint\n",
    "max_num_atoms = summary['max_number_of_atoms']\n",
    "cmats = Coulombmatrices(train, max_num_atoms)\n",
    "y_vals = train['hform']\n",
    "print('Shape of cmats', cmats.shape)"
   ]
  },
  {
   "cell_type": "code",
   "execution_count": null,
   "metadata": {},
   "outputs": [],
   "source": [
    "# Set target and feature vector \n",
    "X = pd.DataFrame(data = cmats, index=train.id)\n",
    "y = pd.DataFrame(train['hform'].values, index = train.id)\n",
    "print('X: {}'.format(X.shape))\n",
    "print('y: {}'.format(y.shape))"
   ]
  },
  {
   "cell_type": "code",
   "execution_count": 11,
   "metadata": {},
   "outputs": [],
   "source": [
    "# Split training data into a training set and a validation set\n",
    "X_train, X_test, y_train, y_test = train_test_split(X, y, test_size=0.2, random_state=251)\n",
    "y_test_values = y_test.values  # Extract values as a NumPy array\n",
    "y_train_values = y_train.values  # Extract values as a NumPy array"
   ]
  },
  {
   "cell_type": "code",
   "execution_count": null,
   "metadata": {},
   "outputs": [],
   "source": [
    "### Split data\n",
    "print('Shape of split data: ',X_train.shape, X_test.shape, y_train.shape, y_test.shape)\n",
    "\n",
    "plt.figure(figsize = (8, 4))\n",
    "plt.hist(y_train, bins=30, alpha=0.7, density=True, label='Train set')\n",
    "plt.hist(y_test, bins=30, alpha=0.7, density=True, label='Test set')\n",
    "\n",
    "plt.grid()\n",
    "plt.title(\"Normalized histogram of test and train sets\")\n",
    "plt.xlabel(\"Heat of formation, eV/atom\")\n",
    "plt.legend()\n",
    "plt.show()\n"
   ]
  },
  {
   "cell_type": "code",
   "execution_count": 13,
   "metadata": {},
   "outputs": [],
   "source": [
    "# PC Decomposition\n",
    "\n",
    "n_PC = 135\n",
    "\n",
    "X_train_pca, X_test_pca = PCA_decomposition(X_train, X_test, n_PC)"
   ]
  },
  {
   "cell_type": "code",
   "execution_count": 15,
   "metadata": {},
   "outputs": [],
   "source": [
    "# Gaussian process\n",
    "\n",
    "simpleGP = GP(X_train_pca, y_train_values, sigma = 0.003)"
   ]
  },
  {
   "cell_type": "code",
   "execution_count": null,
   "metadata": {},
   "outputs": [],
   "source": [
    "# Train and predict\n",
    "k = 1\n",
    "l=0.04\n",
    "simpleGP.train_GP(l, k)\n",
    "predictions = np.array([simpleGP.predict(fingerprint) for fingerprint in X_test_pca])\n",
    "print(f\"With l = {l} RMSE = {rmse(y_test_values, predictions)}\")\n"
   ]
  },
  {
   "cell_type": "code",
   "execution_count": null,
   "metadata": {},
   "outputs": [],
   "source": [
    "plt.figure()\n",
    "plt.scatter(y_test_values, predictions, s = 1,color='black')\n",
    "plt.xlabel('Test values')\n",
    "plt.ylabel('Predicted values')\n",
    "plt.grid()\n",
    "xg = np.linspace(-4,1.5, 2)\n",
    "plt.plot(xg,xg, color = 'red', linestyle = 'dashed')\n"
   ]
  }
 ],
 "metadata": {
  "kernelspec": {
   "display_name": "base",
   "language": "python",
   "name": "python3"
  },
  "language_info": {
   "codemirror_mode": {
    "name": "ipython",
    "version": 3
   },
   "file_extension": ".py",
   "mimetype": "text/x-python",
   "name": "python",
   "nbconvert_exporter": "python",
   "pygments_lexer": "ipython3",
   "version": "3.8.18"
  }
 },
 "nbformat": 4,
 "nbformat_minor": 2
}
