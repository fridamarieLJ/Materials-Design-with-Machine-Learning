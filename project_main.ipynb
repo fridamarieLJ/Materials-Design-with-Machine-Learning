{
 "cells": [
  {
   "cell_type": "markdown",
   "metadata": {},
   "source": [
    "# Main file for running our model"
   ]
  },
  {
   "cell_type": "code",
   "execution_count": 1,
   "metadata": {},
   "outputs": [],
   "source": [
    "###Libraries (not in function files)"
   ]
  },
  {
   "cell_type": "code",
   "execution_count": 2,
   "metadata": {},
   "outputs": [],
   "source": [
    "###Own functions\n",
    "from project_dataload import *\n",
    "from project_gaussian import *\n",
    "from Fingerprints import *\n",
    "from PCA_decomposition import *"
   ]
  },
  {
   "cell_type": "code",
   "execution_count": 3,
   "metadata": {},
   "outputs": [
    {
     "name": "stdout",
     "output_type": "stream",
     "text": [
      "Check train data\n",
      "Train data shape: (8000, 4)\n",
      "     id        formula                                              atoms  \\\n",
      "0  5154         Zr2BO2  (Atom('Zr', [1.6878604657, 0.892285133, 8.1345...   \n",
      "1   984          Ni2S6  (Atom('Ni', [1.1571403137, 0.934725185, 12.234...   \n",
      "2  1634  Cd4K2Cl6O6Te2  (Atom('Cd', [2.7840261751, 5.6922402759, 26.71...   \n",
      "3  1872      Hf4H2N3O2  (Atom('Hf', [0.0, 1.8677827772, 12.2421466347]...   \n",
      "4  2977         Sc2Te2  (Atom('Te', [0.0003850118, 0.0002469812, 7.461...   \n",
      "\n",
      "      hform  \n",
      "0 -2.037877  \n",
      "1 -0.091020  \n",
      "2 -1.109751  \n",
      "3 -1.609142  \n",
      "4 -0.854593  \n",
      "Check test data\n",
      "Train data shape: (4000, 3)\n",
      "      id     formula                                              atoms\n",
      "0   8538    HfZrSTe2  (Atom('S', [-1.0327079693, 4.2080182974, 22.81...\n",
      "1   9052    Nb2P2Te6  (Atom('Nb', [0.3517632032, -0.2042419274, 9.20...\n",
      "2  10503  Au2InI2Se2  (Atom('Se', [0.2238411856, 0.8131388722, 26.83...\n",
      "3    611   AuTlO6Sb2  (Atom('Au', [0.0002076097, -0.0001198635, 16.6...\n",
      "4   7212       NbBr2  (Atom('Nb', [6.208919093e-19, -1.371643362e-17...\n"
     ]
    },
    {
     "ename": "NameError",
     "evalue": "name 'np' is not defined",
     "output_type": "error",
     "traceback": [
      "\u001b[1;31m---------------------------------------------------------------------------\u001b[0m",
      "\u001b[1;31mNameError\u001b[0m                                 Traceback (most recent call last)",
      "Cell \u001b[1;32mIn[3], line 10\u001b[0m\n\u001b[0;32m      8\u001b[0m \u001b[38;5;28mprint\u001b[39m(\u001b[38;5;124m'\u001b[39m\u001b[38;5;124mCheck test data\u001b[39m\u001b[38;5;124m'\u001b[39m)\n\u001b[0;32m      9\u001b[0m check_data(test)\n\u001b[1;32m---> 10\u001b[0m summary \u001b[38;5;241m=\u001b[39m \u001b[43msummarize_1\u001b[49m\u001b[43m(\u001b[49m\u001b[43mtrain\u001b[49m\u001b[43m,\u001b[49m\u001b[43m \u001b[49m\u001b[43mtest\u001b[49m\u001b[43m)\u001b[49m\n\u001b[0;32m     11\u001b[0m \u001b[38;5;28mprint\u001b[39m(\u001b[38;5;124m'\u001b[39m\u001b[38;5;124mMax number of atoms\u001b[39m\u001b[38;5;124m'\u001b[39m,summary[\u001b[38;5;124m'\u001b[39m\u001b[38;5;124mmax_number_of_atoms\u001b[39m\u001b[38;5;124m'\u001b[39m])\n",
      "File \u001b[1;32mc:\\Users\\Alber\\OneDrive - Danmarks Tekniske Universitet\\1. semester M.Sc\\10316 Materialedesign med ML og AI\\Materials-Design-with-Machine-Learning-Github\\project_dataload.py:50\u001b[0m, in \u001b[0;36msummarize_1\u001b[1;34m(train, test)\u001b[0m\n\u001b[0;32m     47\u001b[0m     atomic_numbers \u001b[38;5;241m=\u001b[39m \u001b[38;5;28mlist\u001b[39m(\u001b[38;5;28mset\u001b[39m(atomic_numbers\u001b[38;5;241m+\u001b[39m\u001b[38;5;28mlist\u001b[39m(atom\u001b[38;5;241m.\u001b[39mget_atomic_numbers())))\n\u001b[0;32m     48\u001b[0m     number_of_atoms\u001b[38;5;241m.\u001b[39mappend(\u001b[38;5;28mlen\u001b[39m(atom))\n\u001b[1;32m---> 50\u001b[0m max_number_of_atoms \u001b[38;5;241m=\u001b[39m \u001b[43mnp\u001b[49m\u001b[38;5;241m.\u001b[39mmax(number_of_atoms)\n\u001b[0;32m     51\u001b[0m min_atomic_number \u001b[38;5;241m=\u001b[39m np\u001b[38;5;241m.\u001b[39mmin(atomic_numbers)\n\u001b[0;32m     52\u001b[0m max_atomic_number \u001b[38;5;241m=\u001b[39m np\u001b[38;5;241m.\u001b[39mmax(atomic_numbers)\n",
      "\u001b[1;31mNameError\u001b[0m: name 'np' is not defined"
     ]
    }
   ],
   "source": [
    "###Data load and check\n",
    "\n",
    "data_dir=\"./project_data/\"\n",
    "train, test = data_load(data_dir)\n",
    "\n",
    "print('Check train data')\n",
    "check_data(train)\n",
    "print('Check test data')\n",
    "check_data(test)\n",
    "summary = summarize_1(train, test)\n",
    "print('Max number of atoms',summary['max_number_of_atoms'])\n"
   ]
  }
 ],
 "metadata": {
  "kernelspec": {
   "display_name": "base",
   "language": "python",
   "name": "python3"
  },
  "language_info": {
   "codemirror_mode": {
    "name": "ipython",
    "version": 3
   },
   "file_extension": ".py",
   "mimetype": "text/x-python",
   "name": "python",
   "nbconvert_exporter": "python",
   "pygments_lexer": "ipython3",
   "version": "3.8.18"
  }
 },
 "nbformat": 4,
 "nbformat_minor": 2
}
